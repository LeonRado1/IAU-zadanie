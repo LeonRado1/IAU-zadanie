{
 "cells": [
  {
   "cell_type": "markdown",
   "metadata": {},
   "source": [
    "# Fáza 3 - Strojové učenie"
   ]
  },
  {
   "cell_type": "code",
<<<<<<< HEAD
   "execution_count": 60,
=======
   "execution_count": 1,
>>>>>>> 2d577b4029cf619433560fb27836f393845b15ca
   "metadata": {},
   "outputs": [],
   "source": [
    "# imports\n",
    "import pandas as pd\n",
    "import numpy as np\n",
    "import matplotlib.pyplot as plt\n",
    "from sklearn.model_selection import train_test_split\n",
    "from sklearn.preprocessing import StandardScaler, MinMaxScaler, PowerTransformer, QuantileTransformer, FunctionTransformer, KBinsDiscretizer\n",
    "from sklearn.compose import ColumnTransformer\n",
    "from sklearn.pipeline import Pipeline\n",
    "from sklearn.metrics import accuracy_score, precision_score, recall_score\n",
    "from sklearn.tree import DecisionTreeClassifier, plot_tree\n",
    "from sklearn.linear_model import LogisticRegression\n",
    "from sklearn.model_selection import RandomizedSearchCV, cross_val_score\n",
    "from scipy.stats import loguniform, randint\n",
    "from sklearn.ensemble import BaggingClassifier, AdaBoostClassifier\n",
    "from sklearn.neighbors import KNeighborsClassifier"
   ]
  },
  {
   "cell_type": "code",
<<<<<<< HEAD
   "execution_count": 61,
=======
   "execution_count": 2,
>>>>>>> 2d577b4029cf619433560fb27836f393845b15ca
   "metadata": {},
   "outputs": [],
   "source": [
    "connections = pd.read_csv('data/connections.csv', sep='\\t')\n",
    "connections['ts'] = pd.to_datetime(connections['ts'])\n",
    "\n",
    "processes = pd.read_csv('data/processes.csv', sep='\\t')\n",
    "processes['ts'] = pd.to_datetime(processes['ts'])\n",
    "\n",
    "conn_processes = pd.merge(connections, processes, on=['ts', 'imei', 'mwra'], how='inner')\n",
    "conn_processes.drop_duplicates(inplace=True)"
   ]
  },
  {
   "cell_type": "markdown",
   "metadata": {},
   "source": [
    "Načítanie a spojenie datasetov connections a processes ako v minulej fáze projektu."
   ]
  },
  {
   "cell_type": "code",
<<<<<<< HEAD
   "execution_count": 62,
=======
   "execution_count": 3,
>>>>>>> 2d577b4029cf619433560fb27836f393845b15ca
   "metadata": {},
   "outputs": [],
   "source": [
    "X = conn_processes.drop(columns=['mwra'])\n",
    "y = conn_processes['mwra'].to_numpy()\n",
    "\n",
    "X_train, X_test, y_train, y_test = train_test_split(X, y, test_size=0.2, random_state=42)"
   ]
  },
  {
   "cell_type": "markdown",
   "metadata": {},
   "source": [
    "Rozdelenie spojeného datasetu na trénovaciu a testovaciu sadu."
   ]
  },
  {
   "cell_type": "code",
<<<<<<< HEAD
   "execution_count": 63,
=======
   "execution_count": 4,
>>>>>>> 2d577b4029cf619433560fb27836f393845b15ca
   "metadata": {},
   "outputs": [],
   "source": [
    "def encode_values(df):\n",
    "    df['ts'] = df['ts'].astype('int64')\n",
    "    return df\n",
    "\n",
    "def remove_attributes(df):\n",
    "    df = df.drop(['ts', 'imei'], axis=1)\n",
    "    return df\n",
    "\n",
    "def fill_missing_values(df):\n",
    "    for col in df.select_dtypes(include=[np.number]).columns:\n",
    "        df[col] = df[col].fillna(df[col].median())\n",
    "\n",
    "    return df\n",
    "\n",
    "def outlier_replacement(df):\n",
    "    for col in df.select_dtypes(include=[np.number]).columns:\n",
    "        lower_bound = df[col].quantile(0.05)\n",
    "        upper_bound = df[col].quantile(0.95)\n",
    "\n",
    "        df[col] = np.where(df[col] < lower_bound, lower_bound, df[col])\n",
    "        df[col] = np.where(df[col] > upper_bound, upper_bound, df[col])\n",
    "    \n",
    "    return df"
   ]
  },
  {
   "cell_type": "markdown",
   "metadata": {},
   "source": [
    "Funkcie na kódovanie atribútov, odstránenie atribútov, vyplnenia chýbajúcich hodnôt a nahradenia vychýlených hodnôt."
   ]
  },
  {
   "cell_type": "code",
<<<<<<< HEAD
   "execution_count": 64,
=======
   "execution_count": 5,
>>>>>>> 2d577b4029cf619433560fb27836f393845b15ca
   "metadata": {},
   "outputs": [],
   "source": [
    "encoder_transformer = FunctionTransformer(func=encode_values)\n",
    "removal_transformer = FunctionTransformer(func=remove_attributes)\n",
    "inputer_transformer = FunctionTransformer(func=fill_missing_values)\n",
    "outliers_transformer = FunctionTransformer(func=outlier_replacement)"
   ]
  },
  {
   "cell_type": "code",
<<<<<<< HEAD
   "execution_count": 65,
=======
   "execution_count": 6,
>>>>>>> 2d577b4029cf619433560fb27836f393845b15ca
   "metadata": {},
   "outputs": [],
   "source": [
    "standard_columns = ['c.UCMobile.intl', 'c.updateassist', 'c.UCMobile.x86', 'p.android.defcontainer', 'p.google', 'p.android.gms', 'p.olauncher', 'p.android.vending', 'p.browser.provider', 'p.process.gapps', 'p.gms.persistent', 'p.simulator']\n",
    "minmax_columns = ['p.android.chrome', 'p.android.documentsui', 'p.android.gm']\n",
    "power_columns = ['p.notifier']\n",
    "quantile_columns = ['c.android.gm', 'c.android.youtube', 'c.katana', 'c.dogalize', 'c.android.chrome', 'c.android.vending', 'c.raider', 'p.system', 'p.android.externalstorage', 'p.android.packageinstaller', 'p.android.settings', 'p.inputmethod.latin', 'p.katana', 'p.dogalize']"
   ]
  },
  {
   "cell_type": "code",
<<<<<<< HEAD
   "execution_count": 66,
=======
   "execution_count": 7,
>>>>>>> 2d577b4029cf619433560fb27836f393845b15ca
   "metadata": {},
   "outputs": [],
   "source": [
    "preprocessor = ColumnTransformer(\n",
    "    transformers=[\n",
    "        ('standard', StandardScaler(), standard_columns),\n",
    "        ('minmax', MinMaxScaler(), minmax_columns),\n",
    "        ('power', PowerTransformer(method='yeo-johnson'), power_columns),\n",
    "        ('quantile', QuantileTransformer(output_distribution='normal'), quantile_columns)\n",
    "    ],\n",
    "    remainder='passthrough'\n",
    ")"
   ]
  },
  {
   "cell_type": "markdown",
   "metadata": {},
   "source": [
    "Preprocessor na transformáciu všetkých atribútov pomocou zvolených metód."
   ]
  },
  {
   "cell_type": "code",
<<<<<<< HEAD
   "execution_count": 67,
=======
   "execution_count": 8,
>>>>>>> 2d577b4029cf619433560fb27836f393845b15ca
   "metadata": {},
   "outputs": [],
   "source": [
    "pipeline_original = Pipeline(steps=[\n",
    "    ('encoding', encoder_transformer),\n",
    "    ('removing', removal_transformer)\n",
    "])"
   ]
  },
  {
   "cell_type": "code",
<<<<<<< HEAD
   "execution_count": 68,
=======
   "execution_count": 9,
>>>>>>> 2d577b4029cf619433560fb27836f393845b15ca
   "metadata": {},
   "outputs": [],
   "source": [
    "X_train_original = pipeline_original.fit_transform(X_train.copy())\n",
    "X_test_original = pipeline_original.transform(X_test.copy())\n",
    "\n",
    "X_train_original = X_train_original.to_numpy()\n",
    "X_test_original = X_test_original.to_numpy()"
   ]
  },
  {
   "cell_type": "markdown",
   "metadata": {},
   "source": [
    "Originálne dáta bez transformácií, iba s odstránením atribútov a kódovaním."
   ]
  },
  {
   "cell_type": "code",
<<<<<<< HEAD
   "execution_count": 69,
=======
   "execution_count": 10,
>>>>>>> 2d577b4029cf619433560fb27836f393845b15ca
   "metadata": {},
   "outputs": [],
   "source": [
    "pipeline_cleaned = Pipeline(steps=[\n",
    "    ('encoding', encoder_transformer),\n",
    "    ('removing', removal_transformer),\n",
    "    ('outliers', outliers_transformer),\n",
    "    ('inputer', inputer_transformer)\n",
    "])"
   ]
  },
  {
   "cell_type": "code",
<<<<<<< HEAD
   "execution_count": 70,
=======
   "execution_count": 11,
>>>>>>> 2d577b4029cf619433560fb27836f393845b15ca
   "metadata": {},
   "outputs": [],
   "source": [
    "X_train_cleaned = pipeline_cleaned.fit_transform(X_train.copy())\n",
    "X_test_cleaned = pipeline_cleaned.transform(X_test.copy())\n",
    "\n",
    "X_train_cleaned = X_train_cleaned.to_numpy()\n",
    "X_test_cleaned = X_test_cleaned.to_numpy()"
   ]
  },
  {
   "cell_type": "markdown",
   "metadata": {},
   "source": [
    "Vyčistené dáta s nahradením chýbajúcich a vychýlených hodnôt, stále bez transformácií."
   ]
  },
  {
   "cell_type": "code",
<<<<<<< HEAD
   "execution_count": 71,
=======
   "execution_count": 12,
>>>>>>> 2d577b4029cf619433560fb27836f393845b15ca
   "metadata": {},
   "outputs": [],
   "source": [
    "pipeline = Pipeline(steps=[\n",
    "    ('encoding', encoder_transformer),\n",
    "    ('removing', removal_transformer),\n",
    "    ('outliers', outliers_transformer),\n",
    "    ('inputer', inputer_transformer),\n",
    "    ('preprocessor', preprocessor)\n",
    "])"
   ]
  },
  {
   "cell_type": "code",
<<<<<<< HEAD
   "execution_count": 72,
=======
   "execution_count": 13,
>>>>>>> 2d577b4029cf619433560fb27836f393845b15ca
   "metadata": {},
   "outputs": [],
   "source": [
    "X_train_transformed = pipeline.fit_transform(X_train.copy())\n",
    "X_test_transformed = pipeline.transform(X_test.copy())"
   ]
  },
  {
   "cell_type": "markdown",
   "metadata": {},
   "source": [
    "Transformované dáta, predspracované pre strojové učenie."
   ]
  },
  {
   "cell_type": "markdown",
   "metadata": {},
   "source": [
    "### 3.1 Jednoduchý klasifikátor na základe závislosti v dátach"
   ]
  },
  {
   "cell_type": "markdown",
   "metadata": {},
   "source": [
    "### (A)"
   ]
  },
  {
   "cell_type": "markdown",
   "metadata": {},
   "source": [
    "Dáta sme sa rozhodli ešte raz pretransformovať pomocou **KBinsDiscretizer**, nakoľko **ID3 klasifikátor** je nevrhnutý tak, aby pracoval s kategorickými dátami. Keďže náš súbor obsahoval iba numerické dáta, táto transformácia zaručí, že jednotlivé hodnoty budú rozdelené do menšieho počtu skupín. Zvolili sme si 5 skupín a rozdelenie uniform, čo znamená že každá skupina bude mať rovnako veľký rozsah."
   ]
  },
  {
   "cell_type": "code",
<<<<<<< HEAD
   "execution_count": 73,
=======
   "execution_count": 14,
>>>>>>> 2d577b4029cf619433560fb27836f393845b15ca
   "metadata": {},
   "outputs": [],
   "source": [
    "discretizer = KBinsDiscretizer(n_bins=5, encode='ordinal', strategy='uniform')\n",
    "\n",
    "X_train_binned = discretizer.fit_transform(X_train_transformed)\n",
    "X_test_binned = discretizer.transform(X_test_transformed)"
   ]
  },
  {
   "cell_type": "markdown",
   "metadata": {},
   "source": [
    "##### Klasifikátor\n",
    "ID3 klasifikátor sme implementovali pomocou triedy s nastaviteľnou maximálnou hĺbkou. Bližšie vysvetlenie ako klasifikátor funguje sa nachádza v komentároch v kóde."
   ]
  },
  {
   "cell_type": "code",
<<<<<<< HEAD
   "execution_count": 74,
=======
   "execution_count": 15,
>>>>>>> 2d577b4029cf619433560fb27836f393845b15ca
   "metadata": {},
   "outputs": [],
   "source": [
    "class ID3Classifier:\n",
    "    def __init__(self, max_depth): # inicializacia stromu s maximalnou hlbkou\n",
    "        self.max_depth = max_depth\n",
    "        self.tree = None\n",
    "\n",
    "    def calculate_entropy(self, y): # vypocet entropie\n",
    "        _, counts = np.unique(y, return_counts=True) # unikatne hodnoty\n",
    "        probabilities = counts / len(y)\n",
    "        \n",
    "        return -np.sum(probabilities * np.log2(probabilities)) # vzorec na vypocet entropie\n",
    "\n",
    "    def calculate_information_gain(self, X, y, threshold): # vypocet information gain\n",
    "        left_mask = X <= threshold # rozdeli, ktore prvky pojdu do lavej a pravej vetvy\n",
    "        right_mask = ~left_mask\n",
    "        \n",
    "        if np.sum(left_mask) == 0 or np.sum(right_mask) == 0:\n",
    "            return 0\n",
    "\n",
    "        entropy = self.calculate_entropy(y)\n",
    "        n_left, n_right = np.sum(left_mask), np.sum(right_mask)\n",
    "\n",
    "        # vzorec na vypocet vazenej entropie (child entropy)\n",
    "        weighted_entropy = (n_left / len(y)) * self.calculate_entropy(y[left_mask]) + (n_right / len(y)) * self.calculate_entropy(y[right_mask])\n",
    "\n",
    "        return entropy - weighted_entropy\n",
    "\n",
    "    def get_best_split(self, X, y): # najde najlepsie miesto na rozdelenie dat\n",
    "        best_col = None\n",
    "        best_threshold = None\n",
    "        best_gain = -1\n",
    "\n",
    "        for col in range(X.shape[1]): # iteracia cez vsetky atributy\n",
    "            thresholds = np.unique(X[:, col]) # unikatne hodnoty ako potencialne trasholds\n",
    "            \n",
    "            for tr in thresholds:\n",
    "                gain = self.calculate_information_gain(X[:, col], y, tr)\n",
    "                \n",
    "                if gain > best_gain: # priradenie podla najvacsej hodnoty information gain\n",
    "                    best_col = col\n",
    "                    best_threshold = tr\n",
    "                    best_gain = gain\n",
    "\n",
    "        return best_col, best_threshold\n",
    "\n",
    "    def get_most_common_class(self, y): # vrati triedu s najvacsim vyskytom\n",
    "        unique, counts = np.unique(y, return_counts=True)\n",
    "        return unique[np.argmax(counts)]\n",
    "\n",
    "    def build_tree(self, X, y, depth): # funkcia na vytvorenie decision tree\n",
    "        if depth == self.max_depth or len(np.unique(y)) == 1:\n",
    "            return self.get_most_common_class(y) # zastavenie rozdelenia\n",
    "\n",
    "        col, threshold = self.get_best_split(X, y)\n",
    "        \n",
    "        if col is None:\n",
    "            return self.get_most_common_class(y)\n",
    "\n",
    "        left_mask = X[:, col] <= threshold # rozdelenie dat podla trasholdu\n",
    "        right_mask = ~left_mask\n",
    "\n",
    "        return { # vytvori novy node a rekurzivne lavu a pravu stranu\n",
    "            'feature': col,\n",
    "            'threshold': threshold,\n",
    "            'left': self.build_tree(X[left_mask], y[left_mask], depth + 1),\n",
    "            'right': self.build_tree(X[right_mask], y[right_mask], depth + 1),\n",
    "        }\n",
    "\n",
    "    def fit(self, X, y): # trenovanie decision tree na zvolenych datach\n",
    "        self.tree = self.build_tree(X, y, 0)\n",
    "\n",
    "    def predict_sample(self, sample, tree): # predpoved triedy pre jednu vzorku\n",
    "        if not isinstance(tree, dict): # ukoncenie ak ide o list\n",
    "            return tree\n",
    "        if sample[tree['feature']] <= tree['threshold']: # rozhodnutie ci pokracovat v lavej alebo pravej vetve\n",
    "            return self.predict_sample(sample, tree['left'])\n",
    "        else:\n",
    "            return self.predict_sample(sample, tree['right'])\n",
    "\n",
    "    def predict(self, X): # predpoved triedy pre vsetky vzorky\n",
    "        return np.array([self.predict_sample(x, self.tree) for x in X])"
   ]
  },
  {
   "cell_type": "markdown",
   "metadata": {},
   "source": [
    "Klasifikátor sme implementovali pre maximálnu hĺbku 2 a 5 aby sme videli ako sa menia výsledky s rôznymi hodnotami."
   ]
  },
  {
   "cell_type": "code",
<<<<<<< HEAD
   "execution_count": 75,
=======
   "execution_count": 16,
>>>>>>> 2d577b4029cf619433560fb27836f393845b15ca
   "metadata": {},
   "outputs": [],
   "source": [
    "classifier_2 = ID3Classifier(2)\n",
    "\n",
    "classifier_2.fit(X_train_binned, y_train)\n",
    "predictions_2 = classifier_2.predict(X_test_binned)\n",
    "\n",
    "classifier_5 = ID3Classifier(5)\n",
    "\n",
    "classifier_5.fit(X_train_binned, y_train)\n",
    "predictions_5 = classifier_5.predict(X_test_binned)"
   ]
  },
  {
   "cell_type": "markdown",
   "metadata": {},
   "source": [
    "### (B)"
   ]
  },
  {
   "cell_type": "code",
<<<<<<< HEAD
   "execution_count": 76,
=======
   "execution_count": 17,
>>>>>>> 2d577b4029cf619433560fb27836f393845b15ca
   "metadata": {},
   "outputs": [
    {
     "name": "stdout",
     "output_type": "stream",
     "text": [
      "\n",
      "ID3 Classifier results (depth: 2)\n",
      "Accuracy: 0.8030707610146862\n",
<<<<<<< HEAD
      "Precision: 0.7846633972358449\n",
      "Recall: 0.9426888055704339\n",
      "\n",
      "ID3 Classifier results (depth: 5)\n",
      "Accuracy: 0.8584779706275033\n",
      "Precision: 0.8531571218795888\n",
      "Recall: 0.9335832886984468\n"
=======
      "Precision: 0.7851719517641804\n",
      "Recall: 0.9416175682913765\n",
      "\n",
      "ID3 Classifier results (depth: 5)\n",
      "Accuracy: 0.859479305740988\n",
      "Precision: 0.8537181996086106\n",
      "Recall: 0.934654525977504\n"
>>>>>>> 2d577b4029cf619433560fb27836f393845b15ca
     ]
    }
   ],
   "source": [
    "def get_id3_results(predictions, depth):\n",
    "    print(f'\\nID3 Classifier results (depth: {depth})')\n",
    "    \n",
    "    print('Accuracy:', accuracy_score(y_test, predictions))\n",
    "    print('Precision:', precision_score(y_test, predictions))\n",
    "    print('Recall:', recall_score(y_test, predictions))\n",
    "\n",
    "get_id3_results(predictions_2, 2)\n",
    "get_id3_results(predictions_5, 5)"
   ]
  },
  {
   "cell_type": "markdown",
   "metadata": {},
   "source": [
    "Výsledky znázorňujú, že klasifikátor s hĺbkou 5 je lepší čo sa týka *accuracy* a *precision*, ale je mierne horší pri *recall*. To znamená, že nemusí byť až tak efektívny pri identifikácii všetkých pozitívnych prípadov. Keďže robíme všeobecnú predikciu, budeme v tomto prípade považovať model s hĺbkou 5 ako efektívnejší. "
   ]
  },
  {
   "cell_type": "markdown",
   "metadata": {},
   "source": [
    "### (C)"
   ]
  },
  {
   "cell_type": "code",
<<<<<<< HEAD
   "execution_count": 77,
=======
   "execution_count": 18,
>>>>>>> 2d577b4029cf619433560fb27836f393845b15ca
   "metadata": {},
   "outputs": [
    {
     "name": "stdout",
     "output_type": "stream",
     "text": [
<<<<<<< HEAD
      "Training Accuracy: 0.857977303070761\n",
      "Training Precision: 0.8503434148692613\n",
      "Training Recall: 0.9388053744845017\n",
      "\n",
      "Test Accuracy: 0.8584779706275033\n",
      "Test Precision: 0.8531571218795888\n",
      "Test Recall: 0.9335832886984468\n"
=======
      "Training Accuracy: 0.8582276368491322\n",
      "Training Precision: 0.8501444390948484\n",
      "Training Recall: 0.9396035652520952\n",
      "\n",
      "Test Accuracy: 0.859479305740988\n",
      "Test Precision: 0.8537181996086106\n",
      "Test Recall: 0.934654525977504\n"
>>>>>>> 2d577b4029cf619433560fb27836f393845b15ca
     ]
    }
   ],
   "source": [
    "predictions_5_train = classifier_5.predict(X_train_binned)\n",
    "\n",
    "print('Training Accuracy:', accuracy_score(y_train, predictions_5_train))\n",
    "print('Training Precision:', precision_score(y_train, predictions_5_train))\n",
    "print('Training Recall:', recall_score(y_train, predictions_5_train))\n",
    "\n",
    "print('\\nTest Accuracy:', accuracy_score(y_test, predictions_5))\n",
    "print('Test Precision:', precision_score(y_test, predictions_5))\n",
    "print('Test Recall:', recall_score(y_test, predictions_5))"
   ]
  },
  {
   "cell_type": "markdown",
   "metadata": {},
   "source": [
    "Klasifikátor nemá overfit. Hodnoty všetkých troch metrík sú veľmi podobné pri predikciách na trénovacích aj testovacích dátach. To naznačuje, že model dobre generalizuje a je schopný správne fungovať aj pri nových dátach."
   ]
  },
  {
   "cell_type": "markdown",
   "metadata": {},
   "source": [
    "### 3.2 Trénovanie a vyhodnotenie klasifikátorov strojového učenia"
   ]
  },
  {
   "cell_type": "markdown",
   "metadata": {},
   "source": [
    "### (A)"
   ]
  },
  {
   "cell_type": "markdown",
   "metadata": {},
   "source": [
    "Stromový algoritmus - Rozhodovací strom (Decision tree)"
   ]
  },
  {
   "cell_type": "code",
<<<<<<< HEAD
   "execution_count": 78,
=======
   "execution_count": 19,
>>>>>>> 2d577b4029cf619433560fb27836f393845b15ca
   "metadata": {},
   "outputs": [],
   "source": [
    "dt_model = DecisionTreeClassifier(max_depth=3, random_state=42)\n",
    "dt_model.fit(X_train_transformed, y_train)\n",
    "dt_predictions = dt_model.predict(X_test_transformed)"
   ]
  },
  {
   "cell_type": "markdown",
   "metadata": {},
   "source": [
    "### (B)"
   ]
  },
  {
   "cell_type": "markdown",
   "metadata": {},
   "source": [
    "Nestromový algoritmus - Logistická regresia (Logistic regression)"
   ]
  },
  {
   "cell_type": "code",
<<<<<<< HEAD
   "execution_count": 79,
=======
   "execution_count": 20,
>>>>>>> 2d577b4029cf619433560fb27836f393845b15ca
   "metadata": {},
   "outputs": [],
   "source": [
    "lr_model = LogisticRegression(max_iter=500, random_state=42)\n",
    "lr_model.fit(X_train_transformed, y_train)\n",
    "lr_predictions = lr_model.predict(X_test_transformed)"
   ]
  },
  {
   "cell_type": "markdown",
   "metadata": {},
   "source": [
    "Porovnanie Logistic regression a Decision tree"
   ]
  },
  {
   "cell_type": "code",
<<<<<<< HEAD
   "execution_count": 80,
=======
   "execution_count": 21,
>>>>>>> 2d577b4029cf619433560fb27836f393845b15ca
   "metadata": {},
   "outputs": [
    {
     "name": "stdout",
     "output_type": "stream",
     "text": [
      "Výsledky Decision Tree:\n",
      "Accuracy: 0.8788, Precision: 0.8783, Recall: 0.8788\n",
      "\n",
      "Výsledky Logistic Regression:\n",
      "Accuracy: 0.8925, Precision: 0.8926, Recall: 0.8925\n"
     ]
    }
   ],
   "source": [
    "dt_accuracy = accuracy_score(y_test, dt_predictions)\n",
    "dt_precision = precision_score(y_test, dt_predictions, average='weighted')\n",
    "dt_recall = recall_score(y_test, dt_predictions, average='weighted')\n",
    "\n",
    "lr_accuracy = accuracy_score(y_test, lr_predictions)\n",
    "lr_precision = precision_score(y_test, lr_predictions, average='weighted')\n",
    "lr_recall = recall_score(y_test, lr_predictions, average='weighted')\n",
    "\n",
    "print(\"Výsledky Decision Tree:\")\n",
    "print(f\"Accuracy: {dt_accuracy:.4f}, Precision: {dt_precision:.4f}, Recall: {dt_recall:.4f}\")\n",
    "print(\"\\nVýsledky Logistic Regression:\")\n",
    "print(f\"Accuracy: {lr_accuracy:.4f}, Precision: {lr_precision:.4f}, Recall: {lr_recall:.4f}\")"
   ]
  },
  {
   "cell_type": "markdown",
   "metadata": {},
   "source": [
    "Logistická regresia mierne prekonáva Decision Tree vo všetkých troch metrikách (presnosť, precíznosť, citlivosť), čo naznačuje jej vyššiu presnosť a vyváženosť v predikciách."
   ]
  },
  {
   "cell_type": "markdown",
   "metadata": {},
   "source": [
    "### (C)"
   ]
  },
  {
   "cell_type": "code",
<<<<<<< HEAD
   "execution_count": 81,
=======
   "execution_count": 22,
>>>>>>> 2d577b4029cf619433560fb27836f393845b15ca
   "metadata": {},
   "outputs": [
    {
     "name": "stdout",
     "output_type": "stream",
     "text": [
      "Výsledky ID3 Classifier:\n",
<<<<<<< HEAD
      "Accuracy: 0.8585, Precision: 0.8595, Recall: 0.8585\n"
=======
      "Accuracy: 0.8595, Precision: 0.8606, Recall: 0.8595\n"
>>>>>>> 2d577b4029cf619433560fb27836f393845b15ca
     ]
    }
   ],
   "source": [
    "id3_accuracy = accuracy_score(y_test, predictions_5)\n",
    "id3_precision = precision_score(y_test, predictions_5, average='weighted')\n",
    "id3_recall = recall_score(y_test, predictions_5, average='weighted')\n",
    "\n",
    "print(\"Výsledky ID3 Classifier:\")\n",
    "print(f\"Accuracy: {id3_accuracy:.4f}, Precision: {id3_precision:.4f}, Recall: {id3_recall:.4f}\")"
   ]
  },
  {
   "cell_type": "code",
<<<<<<< HEAD
   "execution_count": 82,
=======
   "execution_count": 23,
>>>>>>> 2d577b4029cf619433560fb27836f393845b15ca
   "metadata": {},
   "outputs": [
    {
     "data": {
      "text/html": [
       "<div>\n",
       "<style scoped>\n",
       "    .dataframe tbody tr th:only-of-type {\n",
       "        vertical-align: middle;\n",
       "    }\n",
       "\n",
       "    .dataframe tbody tr th {\n",
       "        vertical-align: top;\n",
       "    }\n",
       "\n",
       "    .dataframe thead th {\n",
       "        text-align: right;\n",
       "    }\n",
       "</style>\n",
       "<table border=\"1\" class=\"dataframe\">\n",
       "  <thead>\n",
       "    <tr style=\"text-align: right;\">\n",
       "      <th></th>\n",
       "      <th>Accuracy</th>\n",
       "      <th>Precision</th>\n",
       "      <th>Recall</th>\n",
       "    </tr>\n",
       "    <tr>\n",
       "      <th>Model</th>\n",
       "      <th></th>\n",
       "      <th></th>\n",
       "      <th></th>\n",
       "    </tr>\n",
       "  </thead>\n",
       "  <tbody>\n",
       "    <tr>\n",
       "      <th>Decision Tree</th>\n",
       "      <td>0.878838</td>\n",
       "      <td>0.878309</td>\n",
       "      <td>0.878838</td>\n",
       "    </tr>\n",
       "    <tr>\n",
       "      <th>Logictic Regresion</th>\n",
       "      <td>0.892523</td>\n",
       "      <td>0.892626</td>\n",
       "      <td>0.892523</td>\n",
       "    </tr>\n",
       "    <tr>\n",
       "      <th>ID3 Classifier</th>\n",
<<<<<<< HEAD
       "      <td>0.858478</td>\n",
       "      <td>0.859461</td>\n",
       "      <td>0.858478</td>\n",
=======
       "      <td>0.859479</td>\n",
       "      <td>0.860550</td>\n",
       "      <td>0.859479</td>\n",
>>>>>>> 2d577b4029cf619433560fb27836f393845b15ca
       "    </tr>\n",
       "  </tbody>\n",
       "</table>\n",
       "</div>"
      ],
      "text/plain": [
       "                    Accuracy  Precision    Recall\n",
       "Model                                            \n",
       "Decision Tree       0.878838   0.878309  0.878838\n",
<<<<<<< HEAD
       "Logictic Regresion  0.892523   0.892626  0.892523\n",
       "ID3 Classifier      0.858478   0.859461  0.858478"
      ]
     },
     "execution_count": 82,
=======
       "Logictic Regresion  0.892190   0.892262  0.892190\n",
       "ID3 Classifier      0.859479   0.860550  0.859479"
      ]
     },
     "execution_count": 23,
>>>>>>> 2d577b4029cf619433560fb27836f393845b15ca
     "metadata": {},
     "output_type": "execute_result"
    }
   ],
   "source": [
    "results = pd.DataFrame({\n",
    "    'Model': ['Decision Tree', 'Logictic Regresion', 'ID3 Classifier'],\n",
    "    'Accuracy': [dt_accuracy, lr_accuracy, id3_accuracy],\n",
    "    'Precision': [dt_precision, lr_precision, id3_precision],\n",
    "    'Recall': [dt_recall, lr_recall, id3_recall]\n",
    "})\n",
    "\n",
    "results.set_index('Model', inplace=True)\n",
    "results"
   ]
  },
  {
   "cell_type": "markdown",
   "metadata": {},
   "source": [
    "V tabuľke môžeme vidieť, že ID3 Classifier dosahuje nižšiu presnosť, precíznosť aj citlivosť v porovnaní s  modelmi Decision Tree (Accuracy: 0.8788) a Logistic Regression (Accuracy: 0.8919)."
   ]
  },
  {
   "cell_type": "markdown",
   "metadata": {},
   "source": [
    "### (D)"
   ]
  },
  {
   "cell_type": "code",
<<<<<<< HEAD
   "execution_count": 83,
=======
   "execution_count": 24,
>>>>>>> 2d577b4029cf619433560fb27836f393845b15ca
   "metadata": {},
   "outputs": [
    {
     "data": {
<<<<<<< HEAD
      "image/png": "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",
=======
      "image/png": "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",
>>>>>>> 2d577b4029cf619433560fb27836f393845b15ca
      "text/plain": [
       "<Figure size 1600x1000 with 1 Axes>"
      ]
     },
     "metadata": {},
     "output_type": "display_data"
    }
   ],
   "source": [
    "plt.figure(figsize=(16, 10))\n",
    "plot_tree(dt_model, feature_names=X_train.columns, class_names=['Class 0', 'Class 1'], filled=True)\n",
    "plt.title(\"Vizualizácia rozhodovacieho stromu\")\n",
    "plt.show()"
   ]
  },
  {
   "cell_type": "markdown",
   "metadata": {},
   "source": [
    "### (E)"
   ]
  },
  {
   "cell_type": "markdown",
   "metadata": {},
   "source": [
    "## Hodnotenie modelov pomocou metrík\n",
    "\n",
    "### Decision Tree Classifier:\n",
    "- **Accuracy**: 0.8788 (87.88%)  \n",
    "- **Precision**: 0.8783  \n",
    "- **Recall**: 0.8788  \n",
    "\n",
    "Decision Tree Classifier dosiahol vysokú presnosť a vyvážené hodnoty precision a recall. To naznačuje, že model dokáže spoľahlivo identifikovať väčšinu správnych tried, avšak mierne zaostáva za Logistic Regression, čo sa týka predikčnej presnosti.\n",
    "\n",
    "---\n",
    "\n",
    "### Logistic Regression:\n",
    "- **Accuracy**: 0.8922 (89.22%)  \n",
    "- **Precision**: 0.8923  \n",
    "- **Recall**: 0.8922  \n",
    "\n",
    "Logistic Regression prekonal Decision Tree vo všetkých troch hodnotených metrikách. Dosiahol najlepšiu presnosť, čo naznačuje, že má menej nesprávnych predikcií, pričom vysoké hodnoty precision a recall ukazujú na efektívnu detekciu správnych tried a minimálne chyby.\n",
    "\n",
    "---\n",
    "\n",
    "### ID3 Classifier:\n",
    "- **Accuracy**: 0.8588 (85.88%)\n",
    "- **Precision**: 0.8599  \n",
    "- **Recall**: 0.8588  \n",
    "\n",
    "ID3 Classifier dosiahol vyvážené výsledky so zhodnými hodnotami v metrikách. Tento model vykazuje stabilné výkony pri detekcii tried, ale nie je najvýkonnejší. Model môže mať menší priestor na zlepšenie, najmä vzhľadom na jeho jednoduchosť."
   ]
  },
  {
   "cell_type": "markdown",
   "metadata": {},
   "source": [
    "### 3.3 Optimalizácia alias hyperparameter tuning"
   ]
  },
  {
   "cell_type": "markdown",
   "metadata": {},
   "source": [
    "### (A)"
   ]
  },
  {
   "cell_type": "markdown",
   "metadata": {},
   "source": [
    "Nakoľko ID3 classifier mal podstatne horšie výsledky ako Logistic regression a Decision tree, nebudeme sa ho naďalej pokúšať optimalizovať. V decision tree a logistic regression však môžme skúšať rôzne nastavenia hyperparametrov a pokúsiť sa dosiahnuť lepšie výsledky."
   ]
  },
  {
   "cell_type": "code",
<<<<<<< HEAD
   "execution_count": 84,
=======
   "execution_count": 25,
>>>>>>> 2d577b4029cf619433560fb27836f393845b15ca
   "metadata": {},
   "outputs": [
    {
     "name": "stdout",
     "output_type": "stream",
     "text": [
      "Optimalizované výsledky Logistic Regression (po rozšírenej optimalizácii):\n",
<<<<<<< HEAD
      "Najlepšie hyperparametre: {'C': np.float64(0.020797523481449698), 'max_iter': 200, 'penalty': 'l2', 'solver': 'liblinear'}\n",
      "Accuracy: 0.8965\n",
      "Precision: 0.8966\n",
      "Recall: 0.8965\n"
=======
      "Najlepšie hyperparametre: {'C': np.float64(0.034996756820693704), 'max_iter': 100, 'penalty': 'l1', 'solver': 'liblinear'}\n",
      "Accuracy: 0.8949\n",
      "Precision: 0.8949\n",
      "Recall: 0.8949\n"
>>>>>>> 2d577b4029cf619433560fb27836f393845b15ca
     ]
    }
   ],
   "source": [
    "param_dist = [\n",
    "    {\n",
    "        'C': loguniform(1e-4, 1e4),\n",
    "        'penalty': ['l1', 'l2'],\n",
    "        'solver': ['liblinear'],\n",
    "        'max_iter': [100, 200, 500] \n",
    "    },\n",
    "    {\n",
    "        'C': loguniform(1e-4, 1e4),\n",
    "        'penalty': ['elasticnet'],\n",
    "        'solver': ['saga'],\n",
    "        'l1_ratio': [0.1, 0.5, 0.9],\n",
    "        'max_iter': [100, 200, 500]\n",
    "    }\n",
    "]\n",
    "\n",
    "random_search_lr = RandomizedSearchCV(\n",
    "    estimator=LogisticRegression(random_state=42),\n",
    "    param_distributions=param_dist,\n",
    "    n_iter=50,\n",
    "    scoring='accuracy',\n",
    "    cv=5,\n",
    "    n_jobs=-1,\n",
    "    random_state=42\n",
    ")\n",
    "\n",
    "random_search_lr.fit(X_train_transformed, y_train)\n",
    "\n",
    "best_params_lr = random_search_lr.best_params_\n",
    "optimized_lr_model = LogisticRegression(random_state=42, **best_params_lr)\n",
    "optimized_lr_model.fit(X_train_transformed, y_train)\n",
    "\n",
    "optimized_lr_predictions = optimized_lr_model.predict(X_test_transformed)\n",
    "\n",
    "optimized_lr_accuracy = accuracy_score(y_test, optimized_lr_predictions)\n",
    "optimized_lr_precision = precision_score(y_test, optimized_lr_predictions, average='weighted')\n",
    "optimized_lr_recall = recall_score(y_test, optimized_lr_predictions, average='weighted')\n",
    "\n",
    "print(\"Optimalizované výsledky Logistic Regression (po rozšírenej optimalizácii):\")\n",
    "print(f\"Najlepšie hyperparametre: {best_params_lr}\")\n",
    "print(f\"Accuracy: {optimized_lr_accuracy:.4f}\")\n",
    "print(f\"Precision: {optimized_lr_precision:.4f}\")\n",
    "print(f\"Recall: {optimized_lr_recall:.4f}\")"
   ]
  },
  {
   "cell_type": "markdown",
   "metadata": {},
   "source": [
    "Vidíme, že oproti pôvodným výsledkom (Accuracy: 0.8922, Precision: 0.8923, Recall: 0.8922) sme po optimalizácii dostali takmer rovnaké výsledky. Optimalizovaný logistic regression dosiahol zatiaľ najlepšie výsledky, avšak nakoľko optimalizácia nebola úplne úspešná, skúsime optimalizovať aj decision tree."
   ]
  },
  {
   "cell_type": "code",
<<<<<<< HEAD
   "execution_count": 85,
=======
   "execution_count": 26,
>>>>>>> 2d577b4029cf619433560fb27836f393845b15ca
   "metadata": {},
   "outputs": [
    {
     "name": "stdout",
     "output_type": "stream",
     "text": [
      "Optimalizované výsledky Decision Tree:\n",
      "Najlepšie hyperparametre: {'criterion': 'gini', 'max_depth': 8, 'min_samples_leaf': 19, 'min_samples_split': 12, 'splitter': 'best'}\n",
      "Accuracy: 0.8992\n",
      "Precision: 0.8989\n",
      "Recall: 0.8992\n"
     ]
    }
   ],
   "source": [
    "param_dist_dt = {\n",
    "    'max_depth': randint(2, 20),\n",
    "    'min_samples_split': randint(2, 20),\n",
    "    'min_samples_leaf': randint(1, 20),\n",
    "    'criterion': ['gini', 'entropy'],\n",
    "    'splitter': ['best', 'random'] \n",
    "}\n",
    "\n",
    "random_search_dt = RandomizedSearchCV(\n",
    "    estimator=DecisionTreeClassifier(random_state=42),\n",
    "    param_distributions=param_dist_dt,\n",
    "    n_iter=50, \n",
    "    scoring='accuracy',  \n",
    "    cv=5, \n",
    "    n_jobs=-1,\n",
    "    random_state=42\n",
    ")\n",
    "\n",
    "random_search_dt.fit(X_train_transformed, y_train)\n",
    "\n",
    "best_params_dt = random_search_dt.best_params_\n",
    "optimized_dt_model = DecisionTreeClassifier(random_state=42, **best_params_dt)\n",
    "optimized_dt_model.fit(X_train_transformed, y_train)\n",
    "\n",
    "optimized_dt_predictions = optimized_dt_model.predict(X_test_transformed)\n",
    "\n",
    "optimized_dt_accuracy = accuracy_score(y_test, optimized_dt_predictions)\n",
    "optimized_dt_precision = precision_score(y_test, optimized_dt_predictions, average='weighted')\n",
    "optimized_dt_recall = recall_score(y_test, optimized_dt_predictions, average='weighted')\n",
    "\n",
    "print(\"Optimalizované výsledky Decision Tree:\")\n",
    "print(f\"Najlepšie hyperparametre: {best_params_dt}\")\n",
    "print(f\"Accuracy: {optimized_dt_accuracy:.4f}\")\n",
    "print(f\"Precision: {optimized_dt_precision:.4f}\")\n",
    "print(f\"Recall: {optimized_dt_recall:.4f}\")"
   ]
  },
  {
   "cell_type": "markdown",
   "metadata": {},
   "source": [
    "Decision tree po optimalizácii dosiahol lepšie výsledky, účinnosť optimalizácie bola väčšia ako pri logistic regression. Optimalizovaný decision tree dosiahol dokonca lepšie výsledky ako optimalizovaný logistic regression."
   ]
  },
  {
   "cell_type": "code",
<<<<<<< HEAD
   "execution_count": 86,
   "metadata": {},
   "outputs": [
    {
     "data": {
      "text/html": [
       "<div>\n",
       "<style scoped>\n",
       "    .dataframe tbody tr th:only-of-type {\n",
       "        vertical-align: middle;\n",
       "    }\n",
       "\n",
       "    .dataframe tbody tr th {\n",
       "        vertical-align: top;\n",
       "    }\n",
       "\n",
       "    .dataframe thead th {\n",
       "        text-align: right;\n",
       "    }\n",
       "</style>\n",
       "<table border=\"1\" class=\"dataframe\">\n",
       "  <thead>\n",
       "    <tr style=\"text-align: right;\">\n",
       "      <th></th>\n",
       "      <th>Accuracy</th>\n",
       "      <th>Precision</th>\n",
       "      <th>Recall</th>\n",
       "    </tr>\n",
       "    <tr>\n",
       "      <th>Model</th>\n",
       "      <th></th>\n",
       "      <th></th>\n",
       "      <th></th>\n",
       "    </tr>\n",
       "  </thead>\n",
       "  <tbody>\n",
       "    <tr>\n",
       "      <th>Optimized Decision Tree</th>\n",
       "      <td>0.899199</td>\n",
       "      <td>0.898922</td>\n",
       "      <td>0.899199</td>\n",
       "    </tr>\n",
       "    <tr>\n",
       "      <th>Optimized Logictic Regresion</th>\n",
       "      <td>0.896529</td>\n",
       "      <td>0.896643</td>\n",
       "      <td>0.896529</td>\n",
       "    </tr>\n",
       "  </tbody>\n",
       "</table>\n",
       "</div>"
      ],
      "text/plain": [
       "                              Accuracy  Precision    Recall\n",
       "Model                                                      \n",
       "Optimized Decision Tree       0.899199   0.898922  0.899199\n",
       "Optimized Logictic Regresion  0.896529   0.896643  0.896529"
      ]
     },
     "execution_count": 86,
     "metadata": {},
     "output_type": "execute_result"
    }
   ],
   "source": [
    "results = pd.DataFrame({\n",
    "    'Model': ['Optimized Decision Tree', 'Optimized Logictic Regresion'],\n",
    "    'Accuracy': [optimized_dt_accuracy, optimized_lr_accuracy],\n",
    "    'Precision': [optimized_dt_precision, optimized_lr_precision],\n",
    "    'Recall': [optimized_dt_recall, optimized_lr_recall]\n",
    "})\n",
    "\n",
    "results.set_index('Model', inplace=True)\n",
    "results"
   ]
  },
  {
   "cell_type": "markdown",
   "metadata": {},
   "source": [
    "### (B)"
   ]
  },
  {
   "cell_type": "markdown",
   "metadata": {},
   "source": [
    "Na ensembling sme použili Decision Tree ako základný klasifikátor, pričom sme aplikovali jeho optimalizované parametre, ktoré sme predtým identifikovali pomocou optimalizácie modelu. Tieto optimalizované parametre zahŕňali hodnoty ako max_depth, min_samples_split a min_samples_leaf, ktoré poskytli lepšie výsledky v porovnaní s prednastavenými hodnotami. Použitie týchto optimalizovaných parametrov v ensemblingu zaručilo, že základné rozhodovacie stromy mali vyššiu prediktívnu presnosť a tým aj zlepšili výkon celkového modelu ensemblingu."
   ]
  },
  {
   "cell_type": "code",
   "execution_count": 87,
   "metadata": {},
   "outputs": [
    {
     "name": "stdout",
     "output_type": "stream",
     "text": [
      "Bagging Classifier:\n",
      "Accuracy: 0.9109\n",
      "Precision: 0.9108\n",
      "Recall: 0.9109\n",
      "\n",
      "AdaBoost Classifier:\n",
      "Accuracy: 0.9025\n",
      "Precision: 0.9022\n",
      "Recall: 0.9025\n"
     ]
    }
   ],
   "source": [
    "# Bagging\n",
    "bagging_model = BaggingClassifier(\n",
    "    estimator=DecisionTreeClassifier(max_depth=best_params_dt['max_depth'], \n",
    "                                      min_samples_split=best_params_dt['min_samples_split'], \n",
    "                                      min_samples_leaf=best_params_dt['min_samples_leaf'], \n",
    "                                      random_state=42),\n",
    "    n_estimators=50,\n",
    "    random_state=42\n",
    ")\n",
    "bagging_model.fit(X_train_transformed, y_train)\n",
    "bagging_predictions = bagging_model.predict(X_test_transformed)\n",
    "\n",
    "bagging_accuracy = accuracy_score(y_test, bagging_predictions)\n",
    "bagging_precision = precision_score(y_test, bagging_predictions, average='weighted')\n",
    "bagging_recall = recall_score(y_test, bagging_predictions, average='weighted')\n",
    "\n",
    "# AdaBoost\n",
    "adaboost_model = AdaBoostClassifier(\n",
    "    estimator=DecisionTreeClassifier(max_depth=best_params_dt['max_depth'], \n",
    "                                      min_samples_split=best_params_dt['min_samples_split'], \n",
    "                                      min_samples_leaf=best_params_dt['min_samples_leaf'], \n",
    "                                      random_state=42),\n",
    "    n_estimators=50,\n",
    "    random_state=42,\n",
    "    algorithm='SAMME'\n",
    ")\n",
    "adaboost_model.fit(X_train_transformed, y_train)\n",
    "adaboost_predictions = adaboost_model.predict(X_test_transformed)\n",
    "\n",
    "adaboost_accuracy = accuracy_score(y_test, adaboost_predictions)\n",
    "adaboost_precision = precision_score(y_test, adaboost_predictions, average='weighted')\n",
    "adaboost_recall = recall_score(y_test, adaboost_predictions, average='weighted')\n",
    "\n",
    "print(\"Bagging Classifier:\")\n",
    "print(f\"Accuracy: {bagging_accuracy:.4f}\")\n",
    "print(f\"Precision: {bagging_precision:.4f}\")\n",
    "print(f\"Recall: {bagging_recall:.4f}\")\n",
    "\n",
    "print(\"\\nAdaBoost Classifier:\")\n",
    "print(f\"Accuracy: {adaboost_accuracy:.4f}\")\n",
    "print(f\"Precision: {adaboost_precision:.4f}\")\n",
    "print(f\"Recall: {adaboost_recall:.4f}\")"
   ]
  },
  {
   "cell_type": "markdown",
   "metadata": {},
   "source": [
    "\n",
    "Používame dve techniky ensemblingu – Bagging a Boosting (AdaBoost), kde oba prístupy kombinujú viacero klasifikátorov, aby zlepšili celkový výkon. Bagging trénuje viacero stromov na rôznych podmnožinách dát a kombinuje ich predikcie, čo znižuje variabilitu modelu, zatiaľ čo AdaBoost iteratívne upravuje váhy vzoriek a zameriava sa na zlepšovanie klasifikátorov.\n",
    " \n",
    "Bagging dosiahol najvyššiu presnosť 91.09 %, zatiaľ čo AdaBoost dosiahol 90.25 %, čo naznačuje, že v tomto prípade je Bagging o niečo efektívnejší.\n",
    "\n",
    "Porovnaním s predchádzajúcimi výsledkami, Logistic Regression a Decision Tree dosiahli podobné výsledky, avšak Bagging a AdaBoost dosiahli mierne lepšiu presnosť."
   ]
  },
  {
   "cell_type": "markdown",
   "metadata": {},
   "source": [
    "Nakoľko zo všetkých modelov najlepšie výsledky dosiahol Bagging Classifier, budeme ďalej používať už len tento model."
   ]
  },
  {
   "cell_type": "markdown",
   "metadata": {},
   "source": [
    "### (C)"
   ]
  },
  {
   "cell_type": "code",
   "execution_count": 88,
   "metadata": {},
   "outputs": [
    {
     "name": "stdout",
     "output_type": "stream",
     "text": [
      "Krížová validácia pre Bagging model:\n",
      "Accuracy: 0.9019\n",
      "Precision: 0.9019\n",
      "Recall: 0.9019\n"
     ]
    }
   ],
   "source": [
    "from sklearn.model_selection import cross_val_score\n",
    "from sklearn.metrics import make_scorer, precision_score, recall_score, accuracy_score\n",
    "import numpy as np\n",
    "\n",
    "bagging_accuracy = cross_val_score(bagging_model, X_train_transformed, y_train, cv=5, scoring='accuracy')\n",
    "bagging_precision = cross_val_score(bagging_model, X_train_transformed, y_train, cv=5, scoring='precision_weighted')\n",
    "bagging_recall = cross_val_score(bagging_model, X_train_transformed, y_train, cv=5, scoring='recall_weighted')\n",
    "\n",
    "print(\"Krížová validácia pre Bagging model:\")\n",
    "print(f\"Accuracy: {bagging_accuracy.mean():.4f}\")\n",
    "print(f\"Precision: {bagging_precision.mean():.4f}\")\n",
    "print(f\"Recall: {bagging_recall.mean():.4f}\")"
   ]
  },
  {
   "cell_type": "markdown",
   "metadata": {},
   "source": [
    "### (D)"
   ]
  },
  {
   "cell_type": "code",
   "execution_count": 89,
   "metadata": {},
   "outputs": [
    {
     "name": "stdout",
     "output_type": "stream",
     "text": [
      "Bagging - Trénovacia Accuracy: 0.9106\n",
      "Bagging - Testovacia Accuracy: 0.9109\n",
      "Bagging - Trénovacia Precision: 0.9106\n",
      "Bagging - Testovacia Precision: 0.9108\n",
      "Bagging - Trénovacia Recall: 0.9106\n",
      "Bagging - Testovacia Recall: 0.9109\n"
     ]
    },
    {
     "data": {
      "image/png": "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",
      "text/plain": [
       "<Figure size 600x600 with 1 Axes>"
      ]
     },
     "metadata": {},
     "output_type": "display_data"
    },
    {
     "name": "stdout",
     "output_type": "stream",
     "text": [
      "Model neprejavuje overfitting pri veľkosti trénovacej množiny 1198.\n",
      "Trénovacia presnosť: 0.9040, Testovacia presnosť: 0.8892\n",
      "Model neprejavuje overfitting pri veľkosti trénovacej množiny 2396.\n",
      "Trénovacia presnosť: 0.9073, Testovacia presnosť: 0.9039\n",
      "Model neprejavuje overfitting pri veľkosti trénovacej množiny 3595.\n",
      "Trénovacia presnosť: 0.9035, Testovacia presnosť: 0.8995\n",
      "Model neprejavuje overfitting pri veľkosti trénovacej množiny 4793.\n",
      "Trénovacia presnosť: 0.9049, Testovacia presnosť: 0.8999\n",
      "Model neprejavuje overfitting pri veľkosti trénovacej množiny 5992.\n",
      "Trénovacia presnosť: 0.9067, Testovacia presnosť: 0.9062\n",
      "Model neprejavuje overfitting pri veľkosti trénovacej množiny 7190.\n",
      "Trénovacia presnosť: 0.9099, Testovacia presnosť: 0.9105\n",
      "Model neprejavuje overfitting pri veľkosti trénovacej množiny 8388.\n",
      "Trénovacia presnosť: 0.9083, Testovacia presnosť: 0.9095\n",
      "Model neprejavuje overfitting pri veľkosti trénovacej množiny 9587.\n",
      "Trénovacia presnosť: 0.9101, Testovacia presnosť: 0.9082\n",
      "Model neprejavuje overfitting pri veľkosti trénovacej množiny 10785.\n",
      "Trénovacia presnosť: 0.9105, Testovacia presnosť: 0.9109\n"
     ]
    }
   ],
   "source": [
    "bagging_model = BaggingClassifier(\n",
    "    estimator=DecisionTreeClassifier(\n",
    "        max_depth=best_params_dt['max_depth'],\n",
    "        min_samples_split=best_params_dt['min_samples_split'],\n",
    "        min_samples_leaf=best_params_dt['min_samples_leaf'],\n",
    "        random_state=42\n",
    "    ),\n",
    "    n_estimators=50,\n",
    "    random_state=42\n",
    ")\n",
    "\n",
    "bagging_model.fit(X_train_transformed, y_train)\n",
    "\n",
    "bagging_train_pred = bagging_model.predict(X_train_transformed)\n",
    "bagging_test_pred = bagging_model.predict(X_test_transformed)\n",
    "\n",
    "bagging_train_acc = accuracy_score(y_train, bagging_train_pred)\n",
    "bagging_test_acc = accuracy_score(y_test, bagging_test_pred)\n",
    "\n",
    "bagging_train_precision = precision_score(y_train, bagging_train_pred, average='weighted')\n",
    "bagging_test_precision = precision_score(y_test, bagging_test_pred, average='weighted')\n",
    "\n",
    "bagging_train_recall = recall_score(y_train, bagging_train_pred, average='weighted')\n",
    "bagging_test_recall = recall_score(y_test, bagging_test_pred, average='weighted')\n",
    "\n",
    "print(f\"Bagging - Trénovacia Accuracy: {bagging_train_acc:.4f}\")\n",
    "print(f\"Bagging - Testovacia Accuracy: {bagging_test_acc:.4f}\")\n",
    "print(f\"Bagging - Trénovacia Precision: {bagging_train_precision:.4f}\")\n",
    "print(f\"Bagging - Testovacia Precision: {bagging_test_precision:.4f}\")\n",
    "print(f\"Bagging - Trénovacia Recall: {bagging_train_recall:.4f}\")\n",
    "print(f\"Bagging - Testovacia Recall: {bagging_test_recall:.4f}\")\n",
    "\n",
    "train_sizes = [int(len(X_train_transformed) * 0.1 * i) for i in range(1, 10)]\n",
    "\n",
    "bagging_train_scores = []\n",
    "bagging_test_scores = []\n",
    "\n",
    "for train_size in train_sizes:\n",
    "    X_train_sub, _, y_train_sub, _ = train_test_split(X_train_transformed, y_train, train_size=train_size, random_state=42)\n",
    "\n",
    "    bagging_model.fit(X_train_sub, y_train_sub)\n",
    "    bagging_train_scores.append(bagging_model.score(X_train_sub, y_train_sub))\n",
    "    bagging_test_scores.append(bagging_model.score(X_test_transformed, y_test))\n",
    "\n",
    "plt.figure(figsize=(6, 6))\n",
    "plt.plot(train_sizes, bagging_train_scores, label=\"Trénovacia presnosť\", marker='o')\n",
    "plt.plot(train_sizes, bagging_test_scores, label=\"Testovacia presnosť\", marker='o')\n",
    "plt.title(\"Krivka učenia pre Bagging model\")\n",
    "plt.xlabel(\"Veľkosť trénovacej množiny\")\n",
    "plt.ylabel(\"Presnosť\")\n",
    "plt.legend()\n",
    "plt.show()\n",
    "\n",
    "def check_overfitting(train_sizes, train_accuracies, test_accuracies):\n",
    "    for i in range(len(train_sizes)):\n",
    "        train_accuracy = train_accuracies[i]\n",
    "        test_accuracy = test_accuracies[i]\n",
    "\n",
    "        if train_accuracy - test_accuracy > 0.05:  # Zohľadňujeme rozumnú hranicu rozdielu\n",
    "            print(f\"Varovanie: Model môže trpieť overfittingom pri veľkosti trénovacej množiny {train_sizes[i]}!\")\n",
    "            print(f\"Trénovacia presnosť: {train_accuracy:.4f}, Testovacia presnosť: {test_accuracy:.4f}\")\n",
    "        else:\n",
    "            print(f\"Model neprejavuje overfitting pri veľkosti trénovacej množiny {train_sizes[i]}.\")\n",
    "            print(f\"Trénovacia presnosť: {train_accuracy:.4f}, Testovacia presnosť: {test_accuracy:.4f}\")\n",
    "\n",
    "check_overfitting(train_sizes, bagging_train_scores, bagging_test_scores)"
   ]
  },
  {
   "cell_type": "markdown",
   "metadata": {},
   "source": [
    "Na grafe môžeme vidieť, že model Bagging classifier dosahuje stabilne vysokú presnosť pri rôznych veľkostiach tréningovej množiny. Trénovacia presnosť sa pohybuje okolo 0.9106 a testovacia presnosť sa pohybuje veľmi podobne, dosahujúc hodnotu 0.9109. Zobrazené výsledky naznačujú, že model je vyvážený, keďže presnosť na tréningových a testovacích dátach je takmer rovnaká. Pri overfittingu by sme očakávali, že trénovacia presnosť by bola výrazne vyššia ako testovacia presnosť, alebo by sa testovacia presnosť začala znižovať pri väčších trénovacích množinách. Tento graf však naznačuje, že model sa nepretrénováva."
   ]
  },
  {
   "cell_type": "markdown",
   "metadata": {},
   "source": [
    "### 3.4 Vyhodnotenie vplyvu zvolenej stratégie riešenia na klasifikáciu"
   ]
  },
  {
   "cell_type": "markdown",
   "metadata": {},
   "source": [
    "### (A)"
   ]
  },
  {
   "cell_type": "code",
   "execution_count": 90,
   "metadata": {},
   "outputs": [],
   "source": [
    "dt_model = DecisionTreeClassifier(max_depth=3, random_state=42)\n",
    "dt_model.fit(X_train_transformed, y_train)\n",
    "dt_predictions = dt_model.predict(X_test_transformed)"
   ]
  },
  {
   "cell_type": "code",
   "execution_count": 91,
   "metadata": {},
   "outputs": [
    {
     "name": "stdout",
     "output_type": "stream",
     "text": [
      "\n",
      "Výsledky Decision Tree pri originálnom datasete:\n",
      "Accuracy: 0.8788, Precision: 0.8783, Recall: 0.8788\n"
     ]
    }
   ],
   "source": [
    "dt_accuracy_original = accuracy_score(y_test, dt_predictions)\n",
    "dt_precision_original = precision_score(y_test, dt_predictions, average='weighted')\n",
    "dt_recall_original = recall_score(y_test, dt_predictions, average='weighted')\n",
    "\n",
    "print(\"\\nVýsledky Decision Tree pri originálnom datasete:\")\n",
    "print(f\"Accuracy: {dt_accuracy_original:.4f}, Precision: {dt_precision_original:.4f}, Recall: {dt_recall_original:.4f}\")"
   ]
  },
  {
   "cell_type": "code",
   "execution_count": 92,
   "metadata": {},
   "outputs": [],
   "source": [
    "dt_model = DecisionTreeClassifier(max_depth=3, random_state=42)\n",
    "dt_model.fit(X_train_cleaned, y_train)\n",
    "dt_predictions = dt_model.predict(X_test_cleaned)"
   ]
  },
  {
   "cell_type": "code",
   "execution_count": 93,
   "metadata": {},
   "outputs": [
    {
     "name": "stdout",
     "output_type": "stream",
     "text": [
      "\n",
      "Výsledky Decision Tree pri vyčistenom datasete:\n",
      "Accuracy: 0.8788, Precision: 0.8783, Recall: 0.8788\n"
     ]
    }
   ],
   "source": [
    "dt_accuracy_cleaned = accuracy_score(y_test, dt_predictions)\n",
    "dt_precision_cleaned = precision_score(y_test, dt_predictions, average='weighted')\n",
    "dt_recall_cleaned = recall_score(y_test, dt_predictions, average='weighted')\n",
    "\n",
    "print(\"\\nVýsledky Decision Tree pri vyčistenom datasete:\")\n",
    "print(f\"Accuracy: {dt_accuracy_cleaned:.4f}, Precision: {dt_precision_cleaned:.4f}, Recall: {dt_recall_cleaned:.4f}\")"
   ]
  },
  {
   "cell_type": "markdown",
   "metadata": {},
   "source": [
    "### (B)"
   ]
  },
  {
   "cell_type": "code",
   "execution_count": 94,
   "metadata": {},
   "outputs": [],
   "source": [
    "dt_model = DecisionTreeClassifier(max_depth=3, random_state=42)\n",
    "dt_model.fit(X_train_transformed, y_train)\n",
    "dt_predictions = dt_model.predict(X_test_transformed)"
   ]
  },
  {
   "cell_type": "code",
   "execution_count": 95,
   "metadata": {},
   "outputs": [
    {
     "name": "stdout",
     "output_type": "stream",
     "text": [
      "\n",
      "Výsledky Decision Tree pri predspracovanom datasete:\n",
      "Accuracy: 0.8788, Precision: 0.8783, Recall: 0.8788\n"
     ]
    }
   ],
   "source": [
    "dt_accuracy_transformed = accuracy_score(y_test, dt_predictions)\n",
    "dt_precision_transformed = precision_score(y_test, dt_predictions, average='weighted')\n",
    "dt_recall_transformed = recall_score(y_test, dt_predictions, average='weighted')\n",
    "\n",
    "print(\"\\nVýsledky Decision Tree pri predspracovanom datasete:\")\n",
    "print(f\"Accuracy: {dt_accuracy_transformed:.4f}, Precision: {dt_precision_transformed:.4f}, Recall: {dt_recall_transformed:.4f}\")"
   ]
  },
  {
   "cell_type": "markdown",
   "metadata": {},
   "source": [
    "### (C)"
   ]
  },
  {
   "cell_type": "code",
   "execution_count": 96,
   "metadata": {},
   "outputs": [
    {
     "name": "stdout",
     "output_type": "stream",
     "text": [
      "\n",
      "Výsledky Decision Tree po optimalizácii:\n",
      "Accuracy: 0.8992, Precision: 0.9031, Recall: 0.9389\n"
     ]
    }
   ],
   "source": [
    "print(\"\\nVýsledky Decision Tree po optimalizácii:\")\n",
    "print(f\"Accuracy: {dt_test_acc:.4f}, Precision: {dt_test_precision:.4f}, Recall: {dt_test_recall:.4f}\")"
   ]
  },
  {
   "cell_type": "code",
   "execution_count": 97,
=======
   "execution_count": 27,
>>>>>>> 2d577b4029cf619433560fb27836f393845b15ca
   "metadata": {},
   "outputs": [
    {
     "data": {
      "text/html": [
       "<div>\n",
       "<style scoped>\n",
       "    .dataframe tbody tr th:only-of-type {\n",
       "        vertical-align: middle;\n",
       "    }\n",
       "\n",
       "    .dataframe tbody tr th {\n",
       "        vertical-align: top;\n",
       "    }\n",
       "\n",
       "    .dataframe thead th {\n",
       "        text-align: right;\n",
       "    }\n",
       "</style>\n",
       "<table border=\"1\" class=\"dataframe\">\n",
       "  <thead>\n",
       "    <tr style=\"text-align: right;\">\n",
       "      <th></th>\n",
       "      <th>Accuracy</th>\n",
       "      <th>Precision</th>\n",
       "      <th>Recall</th>\n",
       "    </tr>\n",
       "    <tr>\n",
       "      <th>Model</th>\n",
       "      <th></th>\n",
       "      <th></th>\n",
       "      <th></th>\n",
       "    </tr>\n",
       "  </thead>\n",
       "  <tbody>\n",
       "    <tr>\n",
       "      <th>Optimized Decision Tree</th>\n",
       "      <td>0.899199</td>\n",
       "      <td>0.903143</td>\n",
       "      <td>0.938939</td>\n",
       "    </tr>\n",
       "    <tr>\n",
       "      <th>Optimized Logictic Regresion</th>\n",
       "      <td>0.894860</td>\n",
       "      <td>0.894874</td>\n",
       "      <td>0.894860</td>\n",
       "    </tr>\n",
       "  </tbody>\n",
       "</table>\n",
       "</div>"
      ],
      "text/plain": [
<<<<<<< HEAD
       "             Accuracy  Precision    Recall\n",
       "Data                                      \n",
       "Original     0.878838   0.878309  0.878838\n",
       "Cleaned      0.878838   0.878309  0.878838\n",
       "Transformed  0.878838   0.878309  0.878838\n",
       "Optimized    0.899199   0.903143  0.938939"
      ]
     },
     "execution_count": 97,
=======
       "                              Accuracy  Precision    Recall\n",
       "Model                                                      \n",
       "Optimized Decision Tree       0.899199   0.898922  0.899199\n",
       "Optimized Logictic Regresion  0.894860   0.894874  0.894860"
      ]
     },
     "execution_count": 27,
>>>>>>> 2d577b4029cf619433560fb27836f393845b15ca
     "metadata": {},
     "output_type": "execute_result"
    }
   ],
   "source": [
    "results = pd.DataFrame({\n",
    "    'Model': ['Optimized Decision Tree', 'Optimized Logictic Regresion'],\n",
    "    'Accuracy': [optimized_dt_accuracy, optimized_lr_accuracy],\n",
    "    'Precision': [optimized_dt_precision, optimized_lr_precision],\n",
    "    'Recall': [optimized_dt_recall, optimized_lr_recall]\n",
    "})\n",
    "\n",
    "results.set_index('Model', inplace=True)\n",
    "results"
   ]
  },
  {
   "cell_type": "markdown",
   "metadata": {},
   "source": [
    "### (B)"
   ]
  },
  {
   "cell_type": "markdown",
   "metadata": {},
   "source": [
    "Na ensembling sme použili Decision Tree ako základný klasifikátor, pričom sme aplikovali jeho optimalizované parametre, ktoré sme predtým identifikovali pomocou optimalizácie modelu. Tieto optimalizované parametre zahŕňali hodnoty ako max_depth, min_samples_split a min_samples_leaf, ktoré poskytli lepšie výsledky v porovnaní s prednastavenými hodnotami. Použitie týchto optimalizovaných parametrov v ensemblingu zaručilo, že základné rozhodovacie stromy mali vyššiu prediktívnu presnosť a tým aj zlepšili výkon celkového modelu ensemblingu."
   ]
  },
  {
   "cell_type": "code",
   "execution_count": 28,
   "metadata": {},
   "outputs": [
    {
     "name": "stdout",
     "output_type": "stream",
     "text": [
      "Bagging Classifier:\n",
      "Accuracy: 0.9109\n",
      "Precision: 0.9108\n",
      "Recall: 0.9109\n",
      "\n",
      "AdaBoost Classifier:\n",
      "Accuracy: 0.9025\n",
      "Precision: 0.9022\n",
      "Recall: 0.9025\n"
     ]
    }
   ],
   "source": [
    "# Bagging\n",
    "bagging_model = BaggingClassifier(\n",
    "    estimator=DecisionTreeClassifier(\n",
    "        max_depth=best_params_dt['max_depth'], \n",
    "        min_samples_split=best_params_dt['min_samples_split'], \n",
    "        min_samples_leaf=best_params_dt['min_samples_leaf'], \n",
    "        random_state=42\n",
    "    ),\n",
    "    n_estimators=50,\n",
    "    random_state=42\n",
    ")\n",
    "\n",
    "bagging_model.fit(X_train_transformed, y_train)\n",
    "bagging_predictions = bagging_model.predict(X_test_transformed)\n",
    "\n",
    "bagging_accuracy = accuracy_score(y_test, bagging_predictions)\n",
    "bagging_precision = precision_score(y_test, bagging_predictions, average='weighted')\n",
    "bagging_recall = recall_score(y_test, bagging_predictions, average='weighted')\n",
    "\n",
    "# AdaBoost\n",
    "adaboost_model = AdaBoostClassifier(\n",
    "    estimator=DecisionTreeClassifier(\n",
    "        max_depth=best_params_dt['max_depth'], \n",
    "        min_samples_split=best_params_dt['min_samples_split'], \n",
    "        min_samples_leaf=best_params_dt['min_samples_leaf'], \n",
    "        random_state=42\n",
    "    ),\n",
    "    n_estimators=50,\n",
    "    random_state=42,\n",
    "    algorithm='SAMME'\n",
    ")\n",
    "\n",
    "adaboost_model.fit(X_train_transformed, y_train)\n",
    "adaboost_predictions = adaboost_model.predict(X_test_transformed)\n",
    "\n",
    "adaboost_accuracy = accuracy_score(y_test, adaboost_predictions)\n",
    "adaboost_precision = precision_score(y_test, adaboost_predictions, average='weighted')\n",
    "adaboost_recall = recall_score(y_test, adaboost_predictions, average='weighted')\n",
    "\n",
    "print(\"Bagging Classifier:\")\n",
    "print(f\"Accuracy: {bagging_accuracy:.4f}\")\n",
    "print(f\"Precision: {bagging_precision:.4f}\")\n",
    "print(f\"Recall: {bagging_recall:.4f}\")\n",
    "\n",
    "print(\"\\nAdaBoost Classifier:\")\n",
    "print(f\"Accuracy: {adaboost_accuracy:.4f}\")\n",
    "print(f\"Precision: {adaboost_precision:.4f}\")\n",
    "print(f\"Recall: {adaboost_recall:.4f}\")"
   ]
  },
  {
   "cell_type": "markdown",
   "metadata": {},
   "source": [
    "\n",
    "Používame dve techniky ensemblingu – Bagging a Boosting (AdaBoost), kde oba prístupy kombinujú viacero klasifikátorov, aby zlepšili celkový výkon. Bagging trénuje viacero stromov na rôznych podmnožinách dát a kombinuje ich predikcie, čo znižuje variabilitu modelu, zatiaľ čo AdaBoost iteratívne upravuje váhy vzoriek a zameriava sa na zlepšovanie klasifikátorov.\n",
    " \n",
    "Bagging dosiahol najvyššiu presnosť 91.09 %, zatiaľ čo AdaBoost dosiahol 90.25 %, čo naznačuje, že v tomto prípade je Bagging o niečo efektívnejší.\n",
    "\n",
    "Porovnaním s predchádzajúcimi výsledkami, Logistic Regression a Decision Tree dosiahli podobné výsledky, avšak Bagging a AdaBoost dosiahli mierne lepšiu presnosť."
   ]
  },
  {
   "cell_type": "markdown",
   "metadata": {},
   "source": [
    "Nakoľko zo všetkých modelov najlepšie výsledky dosiahol Bagging Classifier, budeme ďalej používať už len tento model."
   ]
  },
  {
   "cell_type": "markdown",
   "metadata": {},
   "source": [
    "### (C)"
   ]
  },
  {
   "cell_type": "code",
   "execution_count": 29,
   "metadata": {},
   "outputs": [
    {
     "name": "stdout",
     "output_type": "stream",
     "text": [
      "Krížová validácia pre Bagging model:\n",
      "Accuracy: 0.9019\n",
      "Precision: 0.9019\n",
      "Recall: 0.9019\n"
     ]
    }
   ],
   "source": [
    "bagging_accuracy = cross_val_score(bagging_model, X_train_transformed, y_train, cv=5, scoring='accuracy')\n",
    "bagging_precision = cross_val_score(bagging_model, X_train_transformed, y_train, cv=5, scoring='precision_weighted')\n",
    "bagging_recall = cross_val_score(bagging_model, X_train_transformed, y_train, cv=5, scoring='recall_weighted')\n",
    "\n",
    "print(\"Krížová validácia pre Bagging model:\")\n",
    "print(f\"Accuracy: {bagging_accuracy.mean():.4f}\")\n",
    "print(f\"Precision: {bagging_precision.mean():.4f}\")\n",
    "print(f\"Recall: {bagging_recall.mean():.4f}\")"
   ]
  },
  {
   "cell_type": "markdown",
   "metadata": {},
   "source": [
    "### (D)"
   ]
  },
  {
   "cell_type": "code",
<<<<<<< HEAD
   "execution_count": 98,
=======
   "execution_count": 30,
   "metadata": {},
   "outputs": [
    {
     "name": "stdout",
     "output_type": "stream",
     "text": [
      "Bagging - Trénovacia Accuracy: 0.9106\n",
      "Bagging - Testovacia Accuracy: 0.9109\n",
      "Bagging - Trénovacia Precision: 0.9106\n",
      "Bagging - Testovacia Precision: 0.9108\n",
      "Bagging - Trénovacia Recall: 0.9106\n",
      "Bagging - Testovacia Recall: 0.9109\n"
     ]
    },
    {
     "data": {
      "image/png": "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",
      "text/plain": [
       "<Figure size 600x600 with 1 Axes>"
      ]
     },
     "metadata": {},
     "output_type": "display_data"
    },
    {
     "name": "stdout",
     "output_type": "stream",
     "text": [
      "Model neprejavuje overfitting pri veľkosti trénovacej množiny 1198.\n",
      "Trénovacia presnosť: 0.9040, Testovacia presnosť: 0.8889\n",
      "Model neprejavuje overfitting pri veľkosti trénovacej množiny 2396.\n",
      "Trénovacia presnosť: 0.9073, Testovacia presnosť: 0.9039\n",
      "Model neprejavuje overfitting pri veľkosti trénovacej množiny 3595.\n",
      "Trénovacia presnosť: 0.9035, Testovacia presnosť: 0.8995\n",
      "Model neprejavuje overfitting pri veľkosti trénovacej množiny 4793.\n",
      "Trénovacia presnosť: 0.9049, Testovacia presnosť: 0.8999\n",
      "Model neprejavuje overfitting pri veľkosti trénovacej množiny 5992.\n",
      "Trénovacia presnosť: 0.9067, Testovacia presnosť: 0.9062\n",
      "Model neprejavuje overfitting pri veľkosti trénovacej množiny 7190.\n",
      "Trénovacia presnosť: 0.9099, Testovacia presnosť: 0.9105\n",
      "Model neprejavuje overfitting pri veľkosti trénovacej množiny 8388.\n",
      "Trénovacia presnosť: 0.9083, Testovacia presnosť: 0.9095\n",
      "Model neprejavuje overfitting pri veľkosti trénovacej množiny 9587.\n",
      "Trénovacia presnosť: 0.9101, Testovacia presnosť: 0.9082\n",
      "Model neprejavuje overfitting pri veľkosti trénovacej množiny 10785.\n",
      "Trénovacia presnosť: 0.9105, Testovacia presnosť: 0.9109\n"
     ]
    }
   ],
   "source": [
    "bagging_model = BaggingClassifier(\n",
    "    estimator=DecisionTreeClassifier(\n",
    "        max_depth=best_params_dt['max_depth'],\n",
    "        min_samples_split=best_params_dt['min_samples_split'],\n",
    "        min_samples_leaf=best_params_dt['min_samples_leaf'],\n",
    "        random_state=42\n",
    "    ),\n",
    "    n_estimators=50,\n",
    "    random_state=42\n",
    ")\n",
    "\n",
    "bagging_model.fit(X_train_transformed, y_train)\n",
    "\n",
    "bagging_train_pred = bagging_model.predict(X_train_transformed)\n",
    "bagging_test_pred = bagging_model.predict(X_test_transformed)\n",
    "\n",
    "bagging_train_acc = accuracy_score(y_train, bagging_train_pred)\n",
    "bagging_test_acc = accuracy_score(y_test, bagging_test_pred)\n",
    "\n",
    "bagging_train_precision = precision_score(y_train, bagging_train_pred, average='weighted')\n",
    "bagging_test_precision = precision_score(y_test, bagging_test_pred, average='weighted')\n",
    "\n",
    "bagging_train_recall = recall_score(y_train, bagging_train_pred, average='weighted')\n",
    "bagging_test_recall = recall_score(y_test, bagging_test_pred, average='weighted')\n",
    "\n",
    "print(f\"Bagging - Trénovacia Accuracy: {bagging_train_acc:.4f}\")\n",
    "print(f\"Bagging - Testovacia Accuracy: {bagging_test_acc:.4f}\")\n",
    "print(f\"Bagging - Trénovacia Precision: {bagging_train_precision:.4f}\")\n",
    "print(f\"Bagging - Testovacia Precision: {bagging_test_precision:.4f}\")\n",
    "print(f\"Bagging - Trénovacia Recall: {bagging_train_recall:.4f}\")\n",
    "print(f\"Bagging - Testovacia Recall: {bagging_test_recall:.4f}\")\n",
    "\n",
    "train_sizes = [int(len(X_train_transformed) * 0.1 * i) for i in range(1, 10)]\n",
    "\n",
    "bagging_train_scores = []\n",
    "bagging_test_scores = []\n",
    "\n",
    "for train_size in train_sizes:\n",
    "    X_train_sub, _, y_train_sub, _ = train_test_split(X_train_transformed, y_train, train_size=train_size, random_state=42)\n",
    "\n",
    "    bagging_model.fit(X_train_sub, y_train_sub)\n",
    "    bagging_train_scores.append(bagging_model.score(X_train_sub, y_train_sub))\n",
    "    bagging_test_scores.append(bagging_model.score(X_test_transformed, y_test))\n",
    "\n",
    "plt.figure(figsize=(6, 6))\n",
    "plt.plot(train_sizes, bagging_train_scores, label=\"Trénovacia presnosť\", marker='o')\n",
    "plt.plot(train_sizes, bagging_test_scores, label=\"Testovacia presnosť\", marker='o')\n",
    "plt.title(\"Krivka učenia pre Bagging model\")\n",
    "plt.xlabel(\"Veľkosť trénovacej množiny\")\n",
    "plt.ylabel(\"Presnosť\")\n",
    "plt.legend()\n",
    "plt.show()\n",
    "\n",
    "def check_overfitting(train_sizes, train_accuracies, test_accuracies):\n",
    "    for i in range(len(train_sizes)):\n",
    "        train_accuracy = train_accuracies[i]\n",
    "        test_accuracy = test_accuracies[i]\n",
    "\n",
    "        if train_accuracy - test_accuracy > 0.05:  # Zohľadňujeme rozumnú hranicu rozdielu\n",
    "            print(f\"Varovanie: Model môže trpieť overfittingom pri veľkosti trénovacej množiny {train_sizes[i]}!\")\n",
    "            print(f\"Trénovacia presnosť: {train_accuracy:.4f}, Testovacia presnosť: {test_accuracy:.4f}\")\n",
    "        else:\n",
    "            print(f\"Model neprejavuje overfitting pri veľkosti trénovacej množiny {train_sizes[i]}.\")\n",
    "            print(f\"Trénovacia presnosť: {train_accuracy:.4f}, Testovacia presnosť: {test_accuracy:.4f}\")\n",
    "\n",
    "check_overfitting(train_sizes, bagging_train_scores, bagging_test_scores)"
   ]
  },
  {
   "cell_type": "markdown",
   "metadata": {},
   "source": [
    "Na grafe môžeme vidieť, že model Bagging classifier dosahuje stabilne vysokú presnosť pri rôznych veľkostiach tréningovej množiny. Trénovacia presnosť sa pohybuje okolo 0.9106 a testovacia presnosť sa pohybuje veľmi podobne, dosahujúc hodnotu 0.9109. Zobrazené výsledky naznačujú, že model je vyvážený, keďže presnosť na tréningových a testovacích dátach je takmer rovnaká. Pri overfittingu by sme očakávali, že trénovacia presnosť by bola výrazne vyššia ako testovacia presnosť, alebo by sa testovacia presnosť začala znižovať pri väčších trénovacích množinách. Tento graf však naznačuje, že model sa nepretrénováva."
   ]
  },
  {
   "cell_type": "markdown",
   "metadata": {},
   "source": [
    "### 3.4 Vyhodnotenie vplyvu zvolenej stratégie riešenia na klasifikáciu"
   ]
  },
  {
   "cell_type": "markdown",
   "metadata": {},
   "source": [
    "### (A)"
   ]
  },
  {
   "cell_type": "code",
   "execution_count": 31,
   "metadata": {},
   "outputs": [],
   "source": [
    "dt_model = DecisionTreeClassifier(max_depth=5, random_state=42)\n",
    "dt_model.fit(X_train_transformed, y_train)\n",
    "dt_predictions = dt_model.predict(X_test_transformed)"
   ]
  },
  {
   "cell_type": "code",
   "execution_count": 32,
   "metadata": {},
   "outputs": [
    {
     "name": "stdout",
     "output_type": "stream",
     "text": [
      "\n",
      "Výsledky Decision Tree pri originálnom datasete:\n",
      "Accuracy: 0.8949, Precision: 0.8946, Recall: 0.8949\n"
     ]
    }
   ],
   "source": [
    "dt_accuracy_original = accuracy_score(y_test, dt_predictions)\n",
    "dt_precision_original = precision_score(y_test, dt_predictions, average='weighted')\n",
    "dt_recall_original = recall_score(y_test, dt_predictions, average='weighted')\n",
    "\n",
    "print(\"\\nVýsledky Decision Tree pri originálnom datasete:\")\n",
    "print(f\"Accuracy: {dt_accuracy_original:.4f}, Precision: {dt_precision_original:.4f}, Recall: {dt_recall_original:.4f}\")"
   ]
  },
  {
   "cell_type": "code",
   "execution_count": 33,
   "metadata": {},
   "outputs": [],
   "source": [
    "dt_model = DecisionTreeClassifier(max_depth=5, random_state=42)\n",
    "dt_model.fit(X_train_cleaned, y_train)\n",
    "dt_predictions = dt_model.predict(X_test_cleaned)"
   ]
  },
  {
   "cell_type": "code",
   "execution_count": 34,
   "metadata": {},
   "outputs": [
    {
     "name": "stdout",
     "output_type": "stream",
     "text": [
      "\n",
      "Výsledky Decision Tree pri vyčistenom datasete:\n",
      "Accuracy: 0.8955, Precision: 0.8952, Recall: 0.8955\n"
     ]
    }
   ],
   "source": [
    "dt_accuracy_cleaned = accuracy_score(y_test, dt_predictions)\n",
    "dt_precision_cleaned = precision_score(y_test, dt_predictions, average='weighted')\n",
    "dt_recall_cleaned = recall_score(y_test, dt_predictions, average='weighted')\n",
    "\n",
    "print(\"\\nVýsledky Decision Tree pri vyčistenom datasete:\")\n",
    "print(f\"Accuracy: {dt_accuracy_cleaned:.4f}, Precision: {dt_precision_cleaned:.4f}, Recall: {dt_recall_cleaned:.4f}\")"
   ]
  },
  {
   "cell_type": "markdown",
   "metadata": {},
   "source": [
    "Hodnoty pri **DecisionTreeClassifier** sú rovnaké pri originálnych, ako aj vyčistených dátach. Náš súbor obsahoval pred vyčistením veľmi málo vychýlených hodnôt a žiadne chýbajúce hodnoty. Kedže rozhodovací strom sa rozhoduje podľa určených tresholdov, tieto operácie nemajú veľký vplyv na rozhodovacie kritériá."
   ]
  },
  {
   "cell_type": "markdown",
   "metadata": {},
   "source": [
    "### (B)"
   ]
  },
  {
   "cell_type": "code",
   "execution_count": 35,
   "metadata": {},
   "outputs": [],
   "source": [
    "dt_model = DecisionTreeClassifier(max_depth=5, random_state=42)\n",
    "dt_model.fit(X_train_transformed, y_train)\n",
    "dt_predictions = dt_model.predict(X_test_transformed)"
   ]
  },
  {
   "cell_type": "code",
   "execution_count": 36,
   "metadata": {},
   "outputs": [
    {
     "name": "stdout",
     "output_type": "stream",
     "text": [
      "\n",
      "Výsledky Decision Tree pri predspracovanom datasete:\n",
      "Accuracy: 0.8949, Precision: 0.8946, Recall: 0.8949\n"
     ]
    }
   ],
   "source": [
    "dt_accuracy_transformed = accuracy_score(y_test, dt_predictions)\n",
    "dt_precision_transformed = precision_score(y_test, dt_predictions, average='weighted')\n",
    "dt_recall_transformed = recall_score(y_test, dt_predictions, average='weighted')\n",
    "\n",
    "print(\"\\nVýsledky Decision Tree pri predspracovanom datasete:\")\n",
    "print(f\"Accuracy: {dt_accuracy_transformed:.4f}, Precision: {dt_precision_transformed:.4f}, Recall: {dt_recall_transformed:.4f}\")"
   ]
  },
  {
   "cell_type": "markdown",
   "metadata": {},
   "source": [
    "**Decision Tree Classifier** ukazuje rovnaké metriky aj pri transformovanom datasete. Rozhodovacie stromy nevyužívajú vzdialenosti, takže nie sú citlivé na škálovanie a transformáciu dát, keďže sa rozhodujú podľa tresholdov. Tento model taktiež ovplyvňujú jeho hyperparametre, náš konkrétny model je trénovaný s nízkou maximálnou hĺbkou. Pri vyšších hodnotách sa už výsledky menili."
   ]
  },
  {
   "cell_type": "code",
   "execution_count": 42,
   "metadata": {},
   "outputs": [
    {
     "name": "stdout",
     "output_type": "stream",
     "text": [
      "KNN Classifier (n_neigbors=11)\n",
      "Original:\t0.587116\n",
      "Cleaned:\t0.589786\n",
      "Transformed:\t0.869159\n"
     ]
    }
   ],
   "source": [
    "knn_model = KNeighborsClassifier(n_neighbors=11)\n",
    "knn_model.fit(X_train_original, y_train)\n",
    "knn_predictions = knn_model.predict(X_test_original)\n",
    "knn_accuracy_original = accuracy_score(y_test, knn_predictions)\n",
    "\n",
    "knn_model = KNeighborsClassifier(n_neighbors=11)\n",
    "knn_model.fit(X_train_cleaned, y_train)\n",
    "knn_predictions = knn_model.predict(X_test_cleaned)\n",
    "knn_accuracy_cleaned = accuracy_score(y_test, knn_predictions)\n",
    "\n",
    "knn_model = KNeighborsClassifier(n_neighbors=11)\n",
    "knn_model.fit(X_train_transformed, y_train)\n",
    "knn_predictions = knn_model.predict(X_test_transformed)\n",
    "knn_accuracy_transformed = accuracy_score(y_test, knn_predictions)\n",
    "\n",
    "print(f'KNN Classifier (n_neigbors=11)\\nOriginal:\\t{knn_accuracy_original:4f}\\nCleaned:\\t{knn_accuracy_cleaned:4f}\\nTransformed:\\t{knn_accuracy_transformed:4f}')"
   ]
  },
  {
   "cell_type": "markdown",
   "metadata": {},
   "source": [
    "Na ukážku, že čistenie a transformovanie dát má zmysel sme použili aj **KNN Classifier**, ktorý je citlivý na vzdialenosti. Z výsledkov je vidieť že originálne dáta dosahujú najhoršie výsledky, zatial čo transformované najlepšie. "
   ]
  },
  {
   "cell_type": "markdown",
   "metadata": {},
   "source": [
    "### (C)"
   ]
  },
  {
   "cell_type": "markdown",
   "metadata": {},
   "source": [
    "### (D)"
   ]
  },
  {
   "cell_type": "code",
   "execution_count": 38,
>>>>>>> 2d577b4029cf619433560fb27836f393845b15ca
   "metadata": {},
   "outputs": [
    {
     "data": {
      "text/html": [
       "<div>\n",
       "<style scoped>\n",
       "    .dataframe tbody tr th:only-of-type {\n",
       "        vertical-align: middle;\n",
       "    }\n",
       "\n",
       "    .dataframe tbody tr th {\n",
       "        vertical-align: top;\n",
       "    }\n",
       "\n",
       "    .dataframe thead th {\n",
       "        text-align: right;\n",
       "    }\n",
       "</style>\n",
       "<table border=\"1\" class=\"dataframe\">\n",
       "  <thead>\n",
       "    <tr style=\"text-align: right;\">\n",
       "      <th></th>\n",
       "      <th>criterion</th>\n",
       "      <th>max_depth</th>\n",
       "      <th>min_samples_leaf</th>\n",
       "      <th>min_samples_split</th>\n",
       "      <th>splitter</th>\n",
       "    </tr>\n",
       "  </thead>\n",
       "  <tbody>\n",
       "    <tr>\n",
       "      <th>best_params</th>\n",
       "      <td>gini</td>\n",
       "      <td>8</td>\n",
       "      <td>19</td>\n",
       "      <td>12</td>\n",
       "      <td>best</td>\n",
       "    </tr>\n",
       "  </tbody>\n",
       "</table>\n",
       "</div>"
      ],
      "text/plain": [
       "            criterion  max_depth  min_samples_leaf  min_samples_split splitter\n",
       "best_params      gini          8                19                 12     best"
      ]
     },
<<<<<<< HEAD
     "execution_count": 98,
=======
     "execution_count": 38,
>>>>>>> 2d577b4029cf619433560fb27836f393845b15ca
     "metadata": {},
     "output_type": "execute_result"
    }
   ],
   "source": [
    "best_params = pd.DataFrame(best_params_dt, index=['best_params'])\n",
    "best_params"
   ]
  },
  {
   "cell_type": "code",
<<<<<<< HEAD
   "execution_count": 99,
=======
   "execution_count": 39,
>>>>>>> 2d577b4029cf619433560fb27836f393845b15ca
   "metadata": {},
   "outputs": [],
   "source": [
    "model = BaggingClassifier(\n",
    "    estimator=DecisionTreeClassifier(\n",
    "        max_depth=best_params_dt['max_depth'],\n",
    "        min_samples_split=best_params_dt['min_samples_split'],\n",
    "        min_samples_leaf=best_params_dt['min_samples_leaf'],\n",
    "        random_state=42\n",
    "    ),\n",
    "    n_estimators=50,\n",
    "    random_state=42\n",
    ")"
   ]
  },
  {
   "cell_type": "markdown",
   "metadata": {},
   "source": [
    "### (E)"
   ]
  },
  {
   "cell_type": "code",
<<<<<<< HEAD
   "execution_count": 100,
   "metadata": {},
   "outputs": [],
   "source": [
    "encoder_transformer = FunctionTransformer(func=encode_values)\n",
    "removal_transformer = FunctionTransformer(func=remove_attributes)\n",
    "inputer_transformer = FunctionTransformer(func=fill_missing_values)\n",
    "outliers_transformer = FunctionTransformer(func=outlier_replacement)"
   ]
  },
  {
   "cell_type": "code",
   "execution_count": 101,
   "metadata": {},
   "outputs": [],
   "source": [
    "preprocessor = ColumnTransformer(\n",
    "    transformers=[\n",
    "        ('standard', StandardScaler(), standard_columns),\n",
    "        ('minmax', MinMaxScaler(), minmax_columns),\n",
    "        ('power', PowerTransformer(method='yeo-johnson'), power_columns),\n",
    "        ('quantile', QuantileTransformer(output_distribution='normal'), quantile_columns)\n",
    "    ],\n",
    "    remainder='passthrough'\n",
    ")"
   ]
  },
  {
   "cell_type": "code",
   "execution_count": 102,
=======
   "execution_count": 40,
>>>>>>> 2d577b4029cf619433560fb27836f393845b15ca
   "metadata": {},
   "outputs": [],
   "source": [
    "pipeline = Pipeline(steps=[\n",
    "    ('encoding', encoder_transformer),\n",
    "    ('removing', removal_transformer),\n",
    "    ('outliers', outliers_transformer),\n",
    "    ('inputer', inputer_transformer),\n",
    "    ('preprocessor', preprocessor),\n",
    "    ('classifier', model)\n",
    "])"
   ]
  },
  {
   "cell_type": "markdown",
   "metadata": {},
   "source": [
    "Výsledný data pipeline pre vybudovanie modelu na základe datasetu, všetky transformery a metadáta okrem modelu sa nachádzajú na začiatku tohto jupyter notebooku. Ide o preprocessor, funkcie zaobalené do FunctionTransformeru, a rozdelenie stĺpcov na konkrétne transformácie."
   ]
  },
  {
   "cell_type": "code",
   "execution_count": 41,
   "metadata": {},
   "outputs": [
    {
     "name": "stdout",
     "output_type": "stream",
     "text": [
      "Model Accuracy: 91.09%\n"
     ]
    }
   ],
   "source": [
    "pipeline.fit(X_train, y_train)\n",
    "predictions = pipeline.predict(X_test)\n",
    "\n",
    "print(f'Model Accuracy: {accuracy_score(y_test, predictions) * 100:.2f}%')"
   ]
  }
 ],
 "metadata": {
  "kernelspec": {
   "display_name": "iau",
   "language": "python",
   "name": "python3"
  },
  "language_info": {
   "codemirror_mode": {
    "name": "ipython",
    "version": 3
   },
   "file_extension": ".py",
   "mimetype": "text/x-python",
   "name": "python",
   "nbconvert_exporter": "python",
   "pygments_lexer": "ipython3",
   "version": "3.12.6"
  }
 },
 "nbformat": 4,
 "nbformat_minor": 2
}

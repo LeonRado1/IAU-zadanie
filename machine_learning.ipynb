{
 "cells": [
  {
   "cell_type": "markdown",
   "metadata": {},
   "source": [
    "# Fáza 3 - Strojové učenie"
   ]
  },
  {
   "cell_type": "code",
   "execution_count": 61,
   "metadata": {},
   "outputs": [],
   "source": [
    "# imports\n",
    "import pandas as pd\n",
    "import numpy as np\n",
    "import matplotlib.pyplot as plt\n",
    "from sklearn.model_selection import train_test_split\n",
    "from sklearn.preprocessing import StandardScaler, MinMaxScaler, PowerTransformer, QuantileTransformer, FunctionTransformer, KBinsDiscretizer\n",
    "from sklearn.compose import ColumnTransformer\n",
    "from sklearn.pipeline import Pipeline\n",
    "from sklearn.metrics import accuracy_score, precision_score, recall_score\n",
    "from sklearn.tree import DecisionTreeClassifier, plot_tree\n",
    "from sklearn.linear_model import LogisticRegression\n",
    "from sklearn.model_selection import GridSearchCV, cross_val_score\n",
    "from sklearn.ensemble import RandomForestClassifier, AdaBoostClassifier\n",
    "from sklearn.metrics import accuracy_score, precision_score, recall_score\n",
    "from sklearn.linear_model import LogisticRegression\n",
    "from sklearn.model_selection import GridSearchCV\n",
    "from sklearn.ensemble import VotingClassifier\n",
    "from sklearn.metrics import accuracy_score, precision_score, recall_score\n",
    "from sklearn.tree import DecisionTreeClassifier\n"
   ]
  },
  {
   "cell_type": "code",
   "execution_count": 62,
   "metadata": {},
   "outputs": [],
   "source": [
    "connections = pd.read_csv('data/connections.csv', sep='\\t')\n",
    "connections['ts'] = pd.to_datetime(connections['ts'])\n",
    "\n",
    "processes = pd.read_csv('data/processes.csv', sep='\\t')\n",
    "processes['ts'] = pd.to_datetime(processes['ts'])\n",
    "\n",
    "conn_processes = pd.merge(connections, processes, on=['ts', 'imei', 'mwra'], how='inner')\n",
    "conn_processes.drop_duplicates(inplace=True)"
   ]
  },
  {
   "cell_type": "markdown",
   "metadata": {},
   "source": [
    "Načítanie a spojenie datasetov connections a processes ako v minulej fáze projektu."
   ]
  },
  {
   "cell_type": "code",
   "execution_count": 63,
   "metadata": {},
   "outputs": [],
   "source": [
    "X = conn_processes.drop(columns=['mwra'])\n",
    "y = conn_processes['mwra'].to_numpy()\n",
    "\n",
    "X_train, X_test, y_train, y_test = train_test_split(X, y, test_size=0.2, random_state=42)"
   ]
  },
  {
   "cell_type": "markdown",
   "metadata": {},
   "source": [
    "Rozdelenie spojeného datasetu na trénovaciu a testovaciu sadu."
   ]
  },
  {
   "cell_type": "code",
   "execution_count": 64,
   "metadata": {},
   "outputs": [],
   "source": [
    "def encode_values(df):\n",
    "    df['ts'] = df['ts'].astype('int64')\n",
    "    return df\n",
    "\n",
    "def remove_attributes(df):\n",
    "    df = df.drop(['ts', 'imei'], axis=1)\n",
    "    return df\n",
    "\n",
    "def fill_missing_values(df):\n",
    "    for col in df.select_dtypes(include=[np.number]).columns:\n",
    "        df[col] = df[col].fillna(df[col].median())\n",
    "\n",
    "    return df\n",
    "\n",
    "def outlier_replacement(df):\n",
    "    for col in df.select_dtypes(include=[np.number]).columns:\n",
    "        lower_bound = df[col].quantile(0.05)\n",
    "        upper_bound = df[col].quantile(0.95)\n",
    "\n",
    "        df[col] = np.where(df[col] < lower_bound, lower_bound, df[col])\n",
    "        df[col] = np.where(df[col] > upper_bound, upper_bound, df[col])\n",
    "    \n",
    "    return df"
   ]
  },
  {
   "cell_type": "markdown",
   "metadata": {},
   "source": [
    "Funkcie na kódovanie atribútov, odstránenie atribútov, vyplnenia chýbajúcich hodnôt a nahradenia vychýlených hodnôt."
   ]
  },
  {
   "cell_type": "code",
   "execution_count": 65,
   "metadata": {},
   "outputs": [],
   "source": [
    "X_train_original = remove_attributes(encode_values(X_train)).to_numpy()\n",
    "X_test_original = remove_attributes(encode_values(X_test)).to_numpy()"
   ]
  },
  {
   "cell_type": "markdown",
   "metadata": {},
   "source": [
    "Ponechanie originálnych súborov bez transformácie v tvare numpy array."
   ]
  },
  {
   "cell_type": "code",
   "execution_count": 66,
   "metadata": {},
   "outputs": [],
   "source": [
    "encoder_transformer = FunctionTransformer(func=encode_values, validate=False)\n",
    "removal_transformer = FunctionTransformer(func=remove_attributes, validate=False)\n",
    "inputer_transformer = FunctionTransformer(func=fill_missing_values, validate=False)\n",
    "outliers_transformer = FunctionTransformer(func=outlier_replacement, validate=False)"
   ]
  },
  {
   "cell_type": "code",
   "execution_count": 67,
   "metadata": {},
   "outputs": [],
   "source": [
    "standard_columns = ['c.UCMobile.intl', 'c.updateassist', 'c.UCMobile.x86', 'p.android.defcontainer', 'p.google', 'p.android.gms', 'p.olauncher', 'p.android.vending', 'p.browser.provider', 'p.process.gapps', 'p.gms.persistent', 'p.simulator']\n",
    "minmax_columns = ['p.android.chrome', 'p.android.documentsui', 'p.android.gm']\n",
    "power_columns = ['p.notifier']\n",
    "quantile_columns = ['c.android.gm', 'c.android.youtube', 'c.katana', 'c.dogalize', 'c.android.chrome', 'c.android.vending', 'c.raider', 'p.system', 'p.android.externalstorage', 'p.android.packageinstaller', 'p.android.settings', 'p.inputmethod.latin', 'p.katana', 'p.dogalize']"
   ]
  },
  {
   "cell_type": "code",
   "execution_count": 68,
   "metadata": {},
   "outputs": [],
   "source": [
    "preprocessor = ColumnTransformer(\n",
    "    transformers=[\n",
    "        ('standard', StandardScaler(), standard_columns),\n",
    "        ('minmax', MinMaxScaler(), minmax_columns),\n",
    "        ('power', PowerTransformer(method='yeo-johnson'), power_columns),\n",
    "        ('quantile', QuantileTransformer(output_distribution='normal'), quantile_columns)\n",
    "    ],\n",
    "    remainder='passthrough'\n",
    ")"
   ]
  },
  {
   "cell_type": "markdown",
   "metadata": {},
   "source": [
    "Preprocessor na transformáciu všetkých atribútov pomocou zvolených metód."
   ]
  },
  {
   "cell_type": "code",
   "execution_count": 69,
   "metadata": {},
   "outputs": [],
   "source": [
    "pipeline = Pipeline(steps=[\n",
    "    ('encoding', encoder_transformer),\n",
    "    ('removing', removal_transformer),\n",
    "    ('outliers', outliers_transformer),\n",
    "    ('inputer', inputer_transformer),\n",
    "    ('preprocessor', preprocessor)\n",
    "])"
   ]
  },
  {
   "cell_type": "code",
   "execution_count": 70,
   "metadata": {},
   "outputs": [],
   "source": [
    "X_train_transformed = pipeline.fit_transform(X_train)\n",
    "X_test_transformed = pipeline.transform(X_test)"
   ]
  },
  {
   "cell_type": "markdown",
   "metadata": {},
   "source": [
    "Pipeline na predspracovanie údajov pre strojové učenie."
   ]
  },
  {
   "cell_type": "markdown",
   "metadata": {},
   "source": [
    "### 3.1 Jednoduchý klasifikátor na základe závislosti v dátach"
   ]
  },
  {
   "cell_type": "markdown",
   "metadata": {},
   "source": [
    "### (A)"
   ]
  },
  {
   "cell_type": "markdown",
   "metadata": {},
   "source": [
    "Dáta sme sa rozhodli ešte raz pretransformovať pomocou **KBinsDiscretizer**, nakoľko **ID3 klasifikátor** je nevrhnutý tak, aby pracoval s kategorickými dátami. Keďže náš súbor obsahoval iba numerické dáta, táto transformácia zaručí, že jednotlivé hodnoty budú rozdelené do menšieho počtu skupín. Zvolili sme si 5 skupín a rozdelenie uniform, čo znamená že každá skupina bude mať rovnako veľký rozsah."
   ]
  },
  {
   "cell_type": "code",
   "execution_count": 71,
   "metadata": {},
   "outputs": [],
   "source": [
    "discretizer = KBinsDiscretizer(n_bins=5, encode='ordinal', strategy='uniform')\n",
    "\n",
    "X_train_binned = discretizer.fit_transform(X_train_transformed)\n",
    "X_test_binned = discretizer.transform(X_test_transformed)"
   ]
  },
  {
   "cell_type": "markdown",
   "metadata": {},
   "source": [
    "##### Klasifikátor\n",
    "ID3 klasifikátor sme implementovali pomocou triedy s nastaviteľnou maximálnou hĺbkou. Bližšie vysvetlenie ako klasifikátor funguje sa nachádza v komentároch v kóde."
   ]
  },
  {
   "cell_type": "code",
   "execution_count": 72,
   "metadata": {},
   "outputs": [],
   "source": [
    "class ID3Classifier:\n",
    "    def __init__(self, max_depth): # inicializacia stromu s maximalnou hlbkou\n",
    "        self.max_depth = max_depth\n",
    "        self.tree = None\n",
    "\n",
    "    def calculate_entropy(self, y): # vypocet entropie\n",
    "        _, counts = np.unique(y, return_counts=True) # unikatne hodnoty\n",
    "        probabilities = counts / len(y)\n",
    "        \n",
    "        return -np.sum(probabilities * np.log2(probabilities)) # vzorec na vypocet entropie\n",
    "\n",
    "    def calculate_information_gain(self, X, y, threshold): # vypocet information gain\n",
    "        left_mask = X <= threshold # rozdeli, ktore prvky pojdu do lavej a pravej vetvy\n",
    "        right_mask = ~left_mask\n",
    "        \n",
    "        if np.sum(left_mask) == 0 or np.sum(right_mask) == 0:\n",
    "            return 0\n",
    "\n",
    "        entropy = self.calculate_entropy(y)\n",
    "        n_left, n_right = np.sum(left_mask), np.sum(right_mask)\n",
    "\n",
    "        # vzorec na vypocet vazenej entropie (child entropy)\n",
    "        weighted_entropy = (n_left / len(y)) * self.calculate_entropy(y[left_mask]) + (n_right / len(y)) * self.calculate_entropy(y[right_mask])\n",
    "\n",
    "        return entropy - weighted_entropy\n",
    "\n",
    "    def get_best_split(self, X, y): # najde najlepsie miesto na rozdelenie dat\n",
    "        best_col = None\n",
    "        best_threshold = None\n",
    "        best_gain = -1\n",
    "\n",
    "        for col in range(X.shape[1]): # iteracia cez vsetky atributy\n",
    "            thresholds = np.unique(X[:, col]) # unikatne hodnoty ako potencialne trasholds\n",
    "            \n",
    "            for tr in thresholds:\n",
    "                gain = self.calculate_information_gain(X[:, col], y, tr)\n",
    "                \n",
    "                if gain > best_gain: # priradenie podla najvacsej hodnoty information gain\n",
    "                    best_col = col\n",
    "                    best_threshold = tr\n",
    "                    best_gain = gain\n",
    "\n",
    "        return best_col, best_threshold\n",
    "\n",
    "    def get_most_common_class(self, y): # vrati triedu s najvacsim vyskytom\n",
    "        unique, counts = np.unique(y, return_counts=True)\n",
    "        return unique[np.argmax(counts)]\n",
    "\n",
    "    def build_tree(self, X, y, depth): # funkcia na vytvorenie decision tree\n",
    "        if depth == self.max_depth or len(np.unique(y)) == 1:\n",
    "            return self.get_most_common_class(y) # zastavenie rozdelenia\n",
    "\n",
    "        col, threshold = self.get_best_split(X, y)\n",
    "        \n",
    "        if col is None:\n",
    "            return self.get_most_common_class(y)\n",
    "\n",
    "        left_mask = X[:, col] <= threshold # rozdelenie dat podla trasholdu\n",
    "        right_mask = ~left_mask\n",
    "\n",
    "        return { # vytvori novy node a rekurzivne lavu a pravu stranu\n",
    "            'feature': col,\n",
    "            'threshold': threshold,\n",
    "            'left': self.build_tree(X[left_mask], y[left_mask], depth + 1),\n",
    "            'right': self.build_tree(X[right_mask], y[right_mask], depth + 1),\n",
    "        }\n",
    "\n",
    "    def fit(self, X, y): # trenovanie decision tree na zvolenych datach\n",
    "        self.tree = self.build_tree(X, y, 0)\n",
    "\n",
    "    def predict_sample(self, sample, tree): # predpoved triedy pre jednu vzorku\n",
    "        if not isinstance(tree, dict): # ukoncenie ak ide o list\n",
    "            return tree\n",
    "        if sample[tree['feature']] <= tree['threshold']: # rozhodnutie ci pokracovat v lavej alebo pravej vetve\n",
    "            return self.predict_sample(sample, tree['left'])\n",
    "        else:\n",
    "            return self.predict_sample(sample, tree['right'])\n",
    "\n",
    "    def predict(self, X): # predpoved triedy pre vsetky vzorky\n",
    "        return np.array([self.predict_sample(x, self.tree) for x in X])"
   ]
  },
  {
   "cell_type": "markdown",
   "metadata": {},
   "source": [
    "Klasifikátor sme implementovali pre maximálnu hĺbku 2 a 5 aby sme videli ako sa menia výsledky s rôznymi hodnotami."
   ]
  },
  {
   "cell_type": "code",
   "execution_count": 73,
   "metadata": {},
   "outputs": [],
   "source": [
    "classifier_2 = ID3Classifier(2)\n",
    "\n",
    "classifier_2.fit(X_train_binned, y_train)\n",
    "predictions_2 = classifier_2.predict(X_test_binned)\n",
    "\n",
    "classifier_5 = ID3Classifier(5)\n",
    "\n",
    "classifier_5.fit(X_train_binned, y_train)\n",
    "predictions_5 = classifier_5.predict(X_test_binned)"
   ]
  },
  {
   "cell_type": "markdown",
   "metadata": {},
   "source": [
    "### (B)"
   ]
  },
  {
   "cell_type": "code",
   "execution_count": 74,
   "metadata": {},
   "outputs": [
    {
     "name": "stdout",
     "output_type": "stream",
     "text": [
      "\n",
      "ID3 Classifier results (depth: 2)\n",
      "Accuracy: 0.8024032042723631\n",
      "Precision: 0.7837116154873164\n",
      "Recall: 0.9432244242099626\n",
      "\n",
      "ID3 Classifier results (depth: 5)\n",
      "Accuracy: 0.8584779706275033\n",
      "Precision: 0.8528117359413203\n",
      "Recall: 0.9341189073379753\n"
     ]
    }
   ],
   "source": [
    "def get_id3_results(predictions, depth):\n",
    "    print(f'\\nID3 Classifier results (depth: {depth})')\n",
    "    \n",
    "    print('Accuracy:', accuracy_score(y_test, predictions))\n",
    "    print('Precision:', precision_score(y_test, predictions))\n",
    "    print('Recall:', recall_score(y_test, predictions))\n",
    "\n",
    "get_id3_results(predictions_2, 2)\n",
    "get_id3_results(predictions_5, 5)"
   ]
  },
  {
   "cell_type": "markdown",
   "metadata": {},
   "source": [
    "Výsledky znázorňujú, že klasifikátor s hĺbkou 5 je lepší čo sa týka *accuracy* a *precision*, ale je mierne horší pri *recall*. To znamená, že nemusí byť až tak efektívny pri identifikácii všetkých pozitívnych prípadov. Keďže robíme všeobecnú predikciu, budeme v tomto prípade považovať model s hĺbkou 5 ako efektívnejší. "
   ]
  },
  {
   "cell_type": "markdown",
   "metadata": {},
   "source": [
    "### (C)"
   ]
  },
  {
   "cell_type": "code",
   "execution_count": 75,
   "metadata": {},
   "outputs": [
    {
     "name": "stdout",
     "output_type": "stream",
     "text": [
      "Training Accuracy: 0.8576435246995995\n",
      "Training Precision: 0.8499337588823317\n",
      "Training Recall: 0.9388053744845017\n",
      "\n",
      "Test Accuracy: 0.8584779706275033\n",
      "Test Precision: 0.8528117359413203\n",
      "Test Recall: 0.9341189073379753\n"
     ]
    }
   ],
   "source": [
    "predictions_5_train = classifier_5.predict(X_train_binned)\n",
    "\n",
    "print('Training Accuracy:', accuracy_score(y_train, predictions_5_train))\n",
    "print('Training Precision:', precision_score(y_train, predictions_5_train))\n",
    "print('Training Recall:', recall_score(y_train, predictions_5_train))\n",
    "\n",
    "print('\\nTest Accuracy:', accuracy_score(y_test, predictions_5))\n",
    "print('Test Precision:', precision_score(y_test, predictions_5))\n",
    "print('Test Recall:', recall_score(y_test, predictions_5))"
   ]
  },
  {
   "cell_type": "markdown",
   "metadata": {},
   "source": [
    "Klasifikátor nemá overfit. Hodnoty všetkých troch metrík sú veľmi podobné pri predikciách na trénovacích aj testovacích dátach. To naznačuje, že model dobre generalizuje a je schopný správne fungovať aj pri nových dátach."
   ]
  },
  {
   "cell_type": "markdown",
   "metadata": {},
   "source": [
    "### 3.2 Trénovanie a vyhodnotenie klasifikátorov strojového učenia"
   ]
  },
  {
   "cell_type": "markdown",
   "metadata": {},
   "source": [
    "### (A)"
   ]
  },
  {
   "cell_type": "code",
   "execution_count": 76,
   "metadata": {},
   "outputs": [],
   "source": [
    "dt_model = DecisionTreeClassifier(max_depth=3, random_state=42)\n",
    "dt_model.fit(X_train_transformed, y_train)\n",
    "dt_predictions = dt_model.predict(X_test_transformed)"
   ]
  },
  {
   "cell_type": "markdown",
   "metadata": {},
   "source": [
    "### (B)"
   ]
  },
  {
   "cell_type": "code",
   "execution_count": 77,
   "metadata": {},
   "outputs": [],
   "source": [
    "lr_model = LogisticRegression(max_iter=500, random_state=42)\n",
    "lr_model.fit(X_train_transformed, y_train)\n",
    "lr_predictions = lr_model.predict(X_test_transformed)"
   ]
  },
  {
   "cell_type": "code",
   "execution_count": 78,
   "metadata": {},
   "outputs": [
    {
     "name": "stdout",
     "output_type": "stream",
     "text": [
      "Výsledky Decision Tree:\n",
      "Accuracy: 0.8788, Precision: 0.8783, Recall: 0.8788\n",
      "\n",
      "Výsledky Logistic Regression:\n",
      "Accuracy: 0.8919, Precision: 0.8919, Recall: 0.8919\n"
     ]
    }
   ],
   "source": [
    "dt_accuracy = accuracy_score(y_test, dt_predictions)\n",
    "dt_precision = precision_score(y_test, dt_predictions, average='weighted')\n",
    "dt_recall = recall_score(y_test, dt_predictions, average='weighted')\n",
    "\n",
    "lr_accuracy = accuracy_score(y_test, lr_predictions)\n",
    "lr_precision = precision_score(y_test, lr_predictions, average='weighted')\n",
    "lr_recall = recall_score(y_test, lr_predictions, average='weighted')\n",
    "\n",
    "print(\"Výsledky Decision Tree:\")\n",
    "print(f\"Accuracy: {dt_accuracy:.4f}, Precision: {dt_precision:.4f}, Recall: {dt_recall:.4f}\")\n",
    "print(\"\\nVýsledky Logistic Regression:\")\n",
    "print(f\"Accuracy: {lr_accuracy:.4f}, Precision: {lr_precision:.4f}, Recall: {lr_recall:.4f}\")"
   ]
  },
  {
   "cell_type": "markdown",
   "metadata": {},
   "source": [
    "### (C)"
   ]
  },
  {
   "cell_type": "code",
   "execution_count": 79,
   "metadata": {},
   "outputs": [
    {
     "name": "stdout",
     "output_type": "stream",
     "text": [
      "Výsledky ID3 Classifier:\n",
      "Accuracy: 0.8585, Precision: 0.8595, Recall: 0.8585\n"
     ]
    }
   ],
   "source": [
    "id3_accuracy = accuracy_score(y_test, predictions_5)\n",
    "id3_precision = precision_score(y_test, predictions_5, average='weighted')\n",
    "id3_recall = recall_score(y_test, predictions_5, average='weighted')\n",
    "\n",
    "print(\"Výsledky ID3 Classifier:\")\n",
    "print(f\"Accuracy: {id3_accuracy:.4f}, Precision: {id3_precision:.4f}, Recall: {id3_recall:.4f}\")"
   ]
  },
  {
   "cell_type": "code",
   "execution_count": 80,
   "metadata": {},
   "outputs": [
    {
     "data": {
      "text/html": [
       "<div>\n",
       "<style scoped>\n",
       "    .dataframe tbody tr th:only-of-type {\n",
       "        vertical-align: middle;\n",
       "    }\n",
       "\n",
       "    .dataframe tbody tr th {\n",
       "        vertical-align: top;\n",
       "    }\n",
       "\n",
       "    .dataframe thead th {\n",
       "        text-align: right;\n",
       "    }\n",
       "</style>\n",
       "<table border=\"1\" class=\"dataframe\">\n",
       "  <thead>\n",
       "    <tr style=\"text-align: right;\">\n",
       "      <th></th>\n",
       "      <th>Accuracy</th>\n",
       "      <th>Precision</th>\n",
       "      <th>Recall</th>\n",
       "    </tr>\n",
       "    <tr>\n",
       "      <th>Model</th>\n",
       "      <th></th>\n",
       "      <th></th>\n",
       "      <th></th>\n",
       "    </tr>\n",
       "  </thead>\n",
       "  <tbody>\n",
       "    <tr>\n",
       "      <th>Decision Tree</th>\n",
       "      <td>0.878838</td>\n",
       "      <td>0.878309</td>\n",
       "      <td>0.878838</td>\n",
       "    </tr>\n",
       "    <tr>\n",
       "      <th>Logictic Regresion</th>\n",
       "      <td>0.891856</td>\n",
       "      <td>0.891941</td>\n",
       "      <td>0.891856</td>\n",
       "    </tr>\n",
       "    <tr>\n",
       "      <th>ID3 Classifier</th>\n",
       "      <td>0.858478</td>\n",
       "      <td>0.859539</td>\n",
       "      <td>0.858478</td>\n",
       "    </tr>\n",
       "  </tbody>\n",
       "</table>\n",
       "</div>"
      ],
      "text/plain": [
       "                    Accuracy  Precision    Recall\n",
       "Model                                            \n",
       "Decision Tree       0.878838   0.878309  0.878838\n",
       "Logictic Regresion  0.891856   0.891941  0.891856\n",
       "ID3 Classifier      0.858478   0.859539  0.858478"
      ]
     },
     "execution_count": 80,
     "metadata": {},
     "output_type": "execute_result"
    }
   ],
   "source": [
    "results = pd.DataFrame({\n",
    "    'Model': ['Decision Tree', 'Logictic Regresion', 'ID3 Classifier'],\n",
    "    'Accuracy': [dt_accuracy, lr_accuracy, id3_accuracy],\n",
    "    'Precision': [dt_precision, lr_precision, id3_precision],\n",
    "    'Recall': [dt_recall, lr_recall, id3_recall]\n",
    "})\n",
    "\n",
    "results.set_index('Model', inplace=True)\n",
    "results"
   ]
  },
  {
   "cell_type": "markdown",
   "metadata": {},
   "source": [
    "### (D)"
   ]
  },
  {
   "cell_type": "code",
   "execution_count": 81,
   "metadata": {},
   "outputs": [
    {
     "data": {
      "image/png": "[encoded data removed]",
      "text/plain": [
       "<Figure size 1600x1000 with 1 Axes>"
      ]
     },
     "metadata": {},
     "output_type": "display_data"
    }
   ],
   "source": [
    "plt.figure(figsize=(16, 10))\n",
    "plot_tree(dt_model, feature_names=X_train.columns, class_names=['Class 0', 'Class 1'], filled=True)\n",
    "plt.title(\"Vizualizácia rozhodovacieho stromu\")\n",
    "plt.show()"
   ]
  },
  {
   "cell_type": "markdown",
   "metadata": {},
   "source": [
    "### (E)"
   ]
  },
  {
   "cell_type": "markdown",
   "metadata": {},
   "source": [
    "## Hodnotenie modelov pomocou metrík\n",
    "\n",
    "### Decision Tree Classifier:\n",
    "- **Accuracy**: 0.8788 (87.88%)  \n",
    "- **Precision**: 0.8783  \n",
    "- **Recall**: 0.8788  \n",
    "\n",
    "Decision Tree Classifier dosiahol vysokú presnosť a vyvážené hodnoty precision a recall. To naznačuje, že model dokáže spoľahlivo identifikovať väčšinu správnych tried, avšak mierne zaostáva za Logistic Regression, čo sa týka predikčnej presnosti.\n",
    "\n",
    "---\n",
    "\n",
    "### Logistic Regression:\n",
    "- **Accuracy**: 0.8922 (89.22%)  \n",
    "- **Precision**: 0.8923  \n",
    "- **Recall**: 0.8922  \n",
    "\n",
    "Logistic Regression prekonal Decision Tree vo všetkých troch hodnotených metrikách. Dosiahol najlepšiu presnosť, čo naznačuje, že má menej nesprávnych predikcií, pričom vysoké hodnoty precision a recall ukazujú na efektívnu detekciu správnych tried a minimálne chyby.\n",
    "\n",
    "---\n",
    "\n",
    "### ID3 Classifier:\n",
    "- **Accuracy**: 0.8588 (85.88%)\n",
    "- **Precision**: 0.8599  \n",
    "- **Recall**: 0.8588  \n",
    "\n",
    "ID3 Classifier dosiahol vyvážené výsledky so zhodnými hodnotami v metrikách. Tento model vykazuje stabilné výkony pri detekcii tried, ale nie je najvýkonnejší. Model môže mať menší priestor na zlepšenie, najmä vzhľadom na jeho jednoduchosť."
   ]
  },
  {
   "cell_type": "markdown",
   "metadata": {},
   "source": [
    "### 3.3 Optimalizácia alias hyperparameter tuning"
   ]
  },
  {
   "cell_type": "markdown",
   "metadata": {},
   "source": [
    "### (A)"
   ]
  },
  {
   "cell_type": "code",
   "execution_count": 82,
   "metadata": {},
   "outputs": [
    {
     "name": "stdout",
     "output_type": "stream",
     "text": [
      "Optimalizované výsledky Logistic Regression (po rozšírenej optimalizácii):\n",
      "Najlepšie hyperparametre: {'C': np.float64(0.034996756820693704), 'max_iter': 100, 'penalty': 'l1', 'solver': 'liblinear'}\n",
      "Accuracy: 0.8952\n",
      "Precision: 0.8952\n",
      "Recall: 0.8952\n"
     ]
    }
   ],
   "source": [
    "from sklearn.model_selection import RandomizedSearchCV\n",
    "from scipy.stats import loguniform\n",
    "\n",
    "# Definícia priestorov hyperparametrov\n",
    "param_dist = [\n",
    "    {\n",
    "        'C': loguniform(1e-4, 1e4),  # Regularizačná sila\n",
    "        'penalty': ['l1', 'l2'],  # L1 a L2 penalizácia\n",
    "        'solver': ['liblinear'],  # Solver podporujúci L1 a L2\n",
    "        'max_iter': [100, 200, 500]  # Počet iterácií\n",
    "    },\n",
    "    {\n",
    "        'C': loguniform(1e-4, 1e4),\n",
    "        'penalty': ['elasticnet'],  # ElasticNet penalizácia\n",
    "        'solver': ['saga'],  # ElasticNet podporuje iba solver saga\n",
    "        'l1_ratio': [0.1, 0.5, 0.9],  # ElasticNet hyperparameter\n",
    "        'max_iter': [100, 200, 500]\n",
    "    }\n",
    "]\n",
    "\n",
    "# RandomizedSearchCV na optimalizáciu Logistic Regression\n",
    "random_search_lr = RandomizedSearchCV(\n",
    "    estimator=LogisticRegression(random_state=42),\n",
    "    param_distributions=param_dist,\n",
    "    n_iter=50,  # Počet náhodných iterácií\n",
    "    scoring='accuracy',  # Optimalizujeme podľa accuracy\n",
    "    cv=5,  # 5-násobná krížová validácia\n",
    "    n_jobs=-1,\n",
    "    random_state=42\n",
    ")\n",
    "\n",
    "random_search_lr.fit(X_train_transformed, y_train)\n",
    "\n",
    "# Najlepšie hyperparametre a model\n",
    "best_params_lr = random_search_lr.best_params_\n",
    "optimized_lr_model = LogisticRegression(random_state=42, **best_params_lr)\n",
    "optimized_lr_model.fit(X_train_transformed, y_train)\n",
    "\n",
    "# Predikcie a vyhodnotenie\n",
    "optimized_lr_predictions = optimized_lr_model.predict(X_test_transformed)\n",
    "\n",
    "optimized_lr_accuracy = accuracy_score(y_test, optimized_lr_predictions)\n",
    "optimized_lr_precision = precision_score(y_test, optimized_lr_predictions, average='weighted')\n",
    "optimized_lr_recall = recall_score(y_test, optimized_lr_predictions, average='weighted')\n",
    "\n",
    "print(\"Optimalizované výsledky Logistic Regression (po rozšírenej optimalizácii):\")\n",
    "print(f\"Najlepšie hyperparametre: {best_params_lr}\")\n",
    "print(f\"Accuracy: {optimized_lr_accuracy:.4f}\")\n",
    "print(f\"Precision: {optimized_lr_precision:.4f}\")\n",
    "print(f\"Recall: {optimized_lr_recall:.4f}\")"
   ]
  },
  {
   "cell_type": "code",
   "execution_count": 83,
   "metadata": {},
   "outputs": [
    {
     "name": "stdout",
     "output_type": "stream",
     "text": [
      "Optimalizované výsledky Decision Tree:\n",
      "Najlepšie hyperparametre: {'criterion': 'gini', 'max_depth': 8, 'min_samples_leaf': 19, 'min_samples_split': 12, 'splitter': 'best'}\n",
      "Accuracy: 0.8992\n",
      "Precision: 0.8989\n",
      "Recall: 0.8992\n"
     ]
    }
   ],
   "source": [
    "from sklearn.tree import DecisionTreeClassifier\n",
    "from sklearn.model_selection import RandomizedSearchCV\n",
    "from scipy.stats import randint\n",
    "\n",
    "# Definícia priestorov hyperparametrov\n",
    "param_dist_dt = {\n",
    "    'max_depth': randint(2, 20),  # Maximálna hĺbka stromu\n",
    "    'min_samples_split': randint(2, 20),  # Minimálny počet vzoriek na rozdelenie\n",
    "    'min_samples_leaf': randint(1, 20),  # Minimálny počet vzoriek v liste\n",
    "    'criterion': ['gini', 'entropy'],  # Kritérium pre výpočet kvality rozdelenia\n",
    "    'splitter': ['best', 'random']  # Stratégiu delenia uzlov\n",
    "}\n",
    "\n",
    "# RandomizedSearchCV na optimalizáciu Decision Tree\n",
    "random_search_dt = RandomizedSearchCV(\n",
    "    estimator=DecisionTreeClassifier(random_state=42),\n",
    "    param_distributions=param_dist_dt,\n",
    "    n_iter=50,  # Počet náhodných iterácií\n",
    "    scoring='accuracy',  # Optimalizujeme podľa accuracy\n",
    "    cv=5,  # 5-násobná krížová validácia\n",
    "    n_jobs=-1,\n",
    "    random_state=42\n",
    ")\n",
    "\n",
    "random_search_dt.fit(X_train_transformed, y_train)\n",
    "\n",
    "# Najlepšie hyperparametre a model\n",
    "best_params_dt = random_search_dt.best_params_\n",
    "optimized_dt_model = DecisionTreeClassifier(random_state=42, **best_params_dt)\n",
    "optimized_dt_model.fit(X_train_transformed, y_train)\n",
    "\n",
    "# Predikcie a vyhodnotenie\n",
    "optimized_dt_predictions = optimized_dt_model.predict(X_test_transformed)\n",
    "\n",
    "optimized_dt_accuracy = accuracy_score(y_test, optimized_dt_predictions)\n",
    "optimized_dt_precision = precision_score(y_test, optimized_dt_predictions, average='weighted')\n",
    "optimized_dt_recall = recall_score(y_test, optimized_dt_predictions, average='weighted')\n",
    "\n",
    "print(\"Optimalizované výsledky Decision Tree:\")\n",
    "print(f\"Najlepšie hyperparametre: {best_params_dt}\")\n",
    "print(f\"Accuracy: {optimized_dt_accuracy:.4f}\")\n",
    "print(f\"Precision: {optimized_dt_precision:.4f}\")\n",
    "print(f\"Recall: {optimized_dt_recall:.4f}\")"
   ]
  },
  {
   "cell_type": "markdown",
   "metadata": {},
   "source": [
    "### (B)"
   ]
  },
  {
   "cell_type": "code",
   "execution_count": 84,
   "metadata": {},
   "outputs": [
    {
     "name": "stdout",
     "output_type": "stream",
     "text": [
      "Bagging Classifier:\n",
      "Accuracy: 0.9109\n",
      "Precision: 0.9108\n",
      "Recall: 0.9109\n",
      "\n",
      "AdaBoost Classifier:\n",
      "Accuracy: 0.9025\n",
      "Precision: 0.9022\n",
      "Recall: 0.9025\n"
     ]
    }
   ],
   "source": [
    "from sklearn.ensemble import BaggingClassifier, AdaBoostClassifier\n",
    "from sklearn.tree import DecisionTreeClassifier\n",
    "from sklearn.metrics import accuracy_score, precision_score, recall_score\n",
    "\n",
    "# Bagging\n",
    "bagging_model = BaggingClassifier(\n",
    "    estimator=DecisionTreeClassifier(max_depth=best_params_dt['max_depth'], \n",
    "                                      min_samples_split=best_params_dt['min_samples_split'], \n",
    "                                      min_samples_leaf=best_params_dt['min_samples_leaf'], \n",
    "                                      random_state=42),\n",
    "    n_estimators=50,  # Počet stromov\n",
    "    random_state=42\n",
    ")\n",
    "bagging_model.fit(X_train_transformed, y_train)\n",
    "bagging_predictions = bagging_model.predict(X_test_transformed)\n",
    "\n",
    "bagging_accuracy = accuracy_score(y_test, bagging_predictions)\n",
    "bagging_precision = precision_score(y_test, bagging_predictions, average='weighted')\n",
    "bagging_recall = recall_score(y_test, bagging_predictions, average='weighted')\n",
    "\n",
    "# AdaBoost\n",
    "adaboost_model = AdaBoostClassifier(\n",
    "    estimator=DecisionTreeClassifier(max_depth=best_params_dt['max_depth'], \n",
    "                                      min_samples_split=best_params_dt['min_samples_split'], \n",
    "                                      min_samples_leaf=best_params_dt['min_samples_leaf'], \n",
    "                                      random_state=42),\n",
    "    n_estimators=50,  # Počet iterácií boostingu\n",
    "    random_state=42,\n",
    "    algorithm='SAMME'\n",
    ")\n",
    "adaboost_model.fit(X_train_transformed, y_train)\n",
    "adaboost_predictions = adaboost_model.predict(X_test_transformed)\n",
    "\n",
    "adaboost_accuracy = accuracy_score(y_test, adaboost_predictions)\n",
    "adaboost_precision = precision_score(y_test, adaboost_predictions, average='weighted')\n",
    "adaboost_recall = recall_score(y_test, adaboost_predictions, average='weighted')\n",
    "\n",
    "# Výsledky\n",
    "print(\"Bagging Classifier:\")\n",
    "print(f\"Accuracy: {bagging_accuracy:.4f}\")\n",
    "print(f\"Precision: {bagging_precision:.4f}\")\n",
    "print(f\"Recall: {bagging_recall:.4f}\")\n",
    "\n",
    "print(\"\\nAdaBoost Classifier:\")\n",
    "print(f\"Accuracy: {adaboost_accuracy:.4f}\")\n",
    "print(f\"Precision: {adaboost_precision:.4f}\")\n",
    "print(f\"Recall: {adaboost_recall:.4f}\")"
   ]
  },
  {
   "cell_type": "markdown",
   "metadata": {},
   "source": [
    "### (C)"
   ]
  },
  {
   "cell_type": "code",
   "execution_count": 85,
   "metadata": {},
   "outputs": [
    {
     "name": "stdout",
     "output_type": "stream",
     "text": [
      "Krížová validácia pre optimalizovaný Logistic Regression:\n",
      "Accuracy: 0.8915 \n",
      "Precision: 0.8917\n",
      "Recall: 0.8915\n",
      "\n",
      "Krížová validácia pre optimalizovaný Decision Tree Classifier:\n",
      "Accuracy: 0.8944\n",
      "Precision: 0.8941\n",
      "Recall: 0.8944\n"
     ]
    }
   ],
   "source": [
    "from sklearn.model_selection import cross_val_score\n",
    "from sklearn.metrics import make_scorer, precision_score, recall_score, accuracy_score\n",
    "import numpy as np\n",
    "\n",
    "optimal_log_reg = LogisticRegression(\n",
    "    C=best_params_lr['C'],\n",
    "    solver=best_params_lr['solver'],\n",
    "    max_iter=1000,\n",
    "    random_state=42\n",
    ")\n",
    "\n",
    "optimal_dt = DecisionTreeClassifier(\n",
    "    max_depth=best_params_dt['max_depth'],\n",
    "    min_samples_split=best_params_dt['min_samples_split'],\n",
    "    min_samples_leaf=best_params_dt['min_samples_leaf'],\n",
    "    random_state=42\n",
    ")\n",
    "\n",
    "logistic_accuracy = cross_val_score(optimal_log_reg, X_train_transformed, y_train, cv=5, scoring='accuracy')\n",
    "decision_tree_accuracy = cross_val_score(optimal_dt, X_train_transformed, y_train, cv=5, scoring='accuracy')\n",
    "\n",
    "logistic_precision = cross_val_score(optimal_log_reg, X_train_transformed, y_train, cv=5, scoring='precision_weighted')\n",
    "decision_tree_precision = cross_val_score(optimal_dt, X_train_transformed, y_train, cv=5, scoring='precision_weighted')\n",
    "\n",
    "logistic_recall = cross_val_score(optimal_log_reg, X_train_transformed, y_train, cv=5, scoring='recall_weighted')\n",
    "decision_tree_recall = cross_val_score(optimal_dt, X_train_transformed, y_train, cv=5, scoring='recall_weighted')\n",
    "\n",
    "print(\"Krížová validácia pre optimalizovaný Logistic Regression:\")\n",
    "print(f\"Accuracy: {logistic_accuracy.mean():.4f} \")\n",
    "print(f\"Precision: {logistic_precision.mean():.4f}\")\n",
    "print(f\"Recall: {logistic_recall.mean():.4f}\")\n",
    "\n",
    "print(\"\\nKrížová validácia pre optimalizovaný Decision Tree Classifier:\")\n",
    "print(f\"Accuracy: {decision_tree_accuracy.mean():.4f}\")\n",
    "print(f\"Precision: {decision_tree_precision.mean():.4f}\")\n",
    "print(f\"Recall: {decision_tree_recall.mean():.4f}\")"
   ]
  },
  {
   "cell_type": "markdown",
   "metadata": {},
   "source": [
    "### (D)"
   ]
  },
  {
   "cell_type": "code",
   "execution_count": 86,
   "metadata": {},
   "outputs": [
    {
     "name": "stdout",
     "output_type": "stream",
     "text": [
      "Decision Tree - Trénovacia Accuracy: 0.9043\n",
      "Decision Tree - Testovacia Accuracy: 0.8992\n",
      "Decision Tree - Trénovacia Precision: 0.9052\n",
      "Decision Tree - Testovacia Precision: 0.9031\n",
      "Decision Tree - Trénovacia Recall: 0.9465\n",
      "Decision Tree - Testovacia Recall: 0.9389\n"
     ]
    },
    {
     "data": {
      "image/png": "[encoded data removed]",
      "text/plain": [
       "<Figure size 600x600 with 1 Axes>"
      ]
     },
     "metadata": {},
     "output_type": "display_data"
    },
    {
     "name": "stdout",
     "output_type": "stream",
     "text": [
      "Model neprejavuje overfitting pri veľkosti trénovacej množiny 1198.\n",
      "Trénovacia presnosť: 0.9048, Testovacia presnosť: 0.8865\n",
      "Model neprejavuje overfitting pri veľkosti trénovacej množiny 2396.\n",
      "Trénovacia presnosť: 0.8940, Testovacia presnosť: 0.8818\n",
      "Model neprejavuje overfitting pri veľkosti trénovacej množiny 3595.\n",
      "Trénovacia presnosť: 0.8982, Testovacia presnosť: 0.8802\n",
      "Model neprejavuje overfitting pri veľkosti trénovacej množiny 4793.\n",
      "Trénovacia presnosť: 0.8994, Testovacia presnosť: 0.8882\n",
      "Model neprejavuje overfitting pri veľkosti trénovacej množiny 5992.\n",
      "Trénovacia presnosť: 0.9020, Testovacia presnosť: 0.8935\n",
      "Model neprejavuje overfitting pri veľkosti trénovacej množiny 7190.\n",
      "Trénovacia presnosť: 0.9042, Testovacia presnosť: 0.8962\n",
      "Model neprejavuje overfitting pri veľkosti trénovacej množiny 8388.\n",
      "Trénovacia presnosť: 0.9055, Testovacia presnosť: 0.8982\n",
      "Model neprejavuje overfitting pri veľkosti trénovacej množiny 9587.\n",
      "Trénovacia presnosť: 0.9058, Testovacia presnosť: 0.9012\n",
      "Model neprejavuje overfitting pri veľkosti trénovacej množiny 10785.\n",
      "Trénovacia presnosť: 0.9041, Testovacia presnosť: 0.8995\n"
     ]
    }
   ],
   "source": [
    "from sklearn.metrics import accuracy_score, precision_score, recall_score\n",
    "import matplotlib.pyplot as plt\n",
    "from sklearn.tree import DecisionTreeClassifier\n",
    "from sklearn.model_selection import train_test_split\n",
    "\n",
    "# Optimalizovaný Decision Tree model\n",
    "dt_model = DecisionTreeClassifier(max_depth=best_params_dt['max_depth'],\n",
    "                                  min_samples_split=best_params_dt['min_samples_split'],\n",
    "                                  min_samples_leaf=best_params_dt['min_samples_leaf'],\n",
    "                                  random_state=42)\n",
    "\n",
    "# Fit na tréningových dátach\n",
    "dt_model.fit(X_train_transformed, y_train)\n",
    "\n",
    "# Predikcie na trénovacej a testovacej množine\n",
    "dt_train_pred = dt_model.predict(X_train_transformed)\n",
    "dt_test_pred = dt_model.predict(X_test_transformed)\n",
    "\n",
    "# Výkon na trénovacej a testovacej množine\n",
    "dt_train_acc = accuracy_score(y_train, dt_train_pred)\n",
    "dt_test_acc = accuracy_score(y_test, dt_test_pred)\n",
    "\n",
    "# Skontrolujeme aj Precision a Recall\n",
    "dt_train_precision = precision_score(y_train, dt_train_pred)\n",
    "dt_test_precision = precision_score(y_test, dt_test_pred)\n",
    "\n",
    "dt_train_recall = recall_score(y_train, dt_train_pred)\n",
    "dt_test_recall = recall_score(y_test, dt_test_pred)\n",
    "\n",
    "print(f\"Decision Tree - Trénovacia Accuracy: {dt_train_acc:.4f}\")\n",
    "print(f\"Decision Tree - Testovacia Accuracy: {dt_test_acc:.4f}\")\n",
    "print(f\"Decision Tree - Trénovacia Precision: {dt_train_precision:.4f}\")\n",
    "print(f\"Decision Tree - Testovacia Precision: {dt_test_precision:.4f}\")\n",
    "print(f\"Decision Tree - Trénovacia Recall: {dt_train_recall:.4f}\")\n",
    "print(f\"Decision Tree - Testovacia Recall: {dt_test_recall:.4f}\")\n",
    "\n",
    "# Zobrazenie krivky učenia pre Decision Tree\n",
    "train_sizes = [int(len(X_train_transformed) * 0.1 * i) for i in range(1, 10)]\n",
    "\n",
    "dt_train_scores = []\n",
    "dt_test_scores = []\n",
    "\n",
    "# Pre rôzne veľkosti trénovacích množín\n",
    "for train_size in train_sizes:\n",
    "    X_train_sub, _, y_train_sub, _ = train_test_split(X_train_transformed, y_train, train_size=train_size, random_state=42)\n",
    "    \n",
    "    # Decision Tree\n",
    "    dt_model.fit(X_train_sub, y_train_sub)\n",
    "    dt_train_scores.append(dt_model.score(X_train_sub, y_train_sub))\n",
    "    dt_test_scores.append(dt_model.score(X_test_transformed, y_test))\n",
    "\n",
    "# Zobrazenie krivky učenia pre Decision Tree\n",
    "plt.figure(figsize=(6, 6))\n",
    "plt.plot(train_sizes, dt_train_scores, label=\"Trénovacia presnosť\", marker='o')\n",
    "plt.plot(train_sizes, dt_test_scores, label=\"Testovacia presnosť\", marker='o')\n",
    "plt.title(\"Krivka učenia pre Decision Tree\")\n",
    "plt.xlabel(\"Veľkosť trénovacej množiny\")\n",
    "plt.ylabel(\"Presnosť\")\n",
    "plt.legend()\n",
    "plt.show()\n",
    "\n",
    "# Funkcia na kontrolu overfittingu\n",
    "def check_overfitting(train_sizes, train_accuracies, test_accuracies):\n",
    "    for i in range(len(train_sizes)):\n",
    "        train_accuracy = train_accuracies[i]\n",
    "        test_accuracy = test_accuracies[i]\n",
    "        \n",
    "        # Ak je rozdiel medzi trénovacou a testovacou presnosťou veľký, model môže trpieť overfittingom\n",
    "        if train_accuracy - test_accuracy > 0.05:  # Zohľadňujeme rozumnú hranicu rozdielu\n",
    "            print(f\"Varovanie: Model môže trpieť overfittingom pri veľkosti trénovacej množiny {train_sizes[i]}!\")\n",
    "            print(f\"Trénovacia presnosť: {train_accuracy:.4f}, Testovacia presnosť: {test_accuracy:.4f}\")\n",
    "        else:\n",
    "            print(f\"Model neprejavuje overfitting pri veľkosti trénovacej množiny {train_sizes[i]}.\")\n",
    "            print(f\"Trénovacia presnosť: {train_accuracy:.4f}, Testovacia presnosť: {test_accuracy:.4f}\")\n",
    "\n",
    "# Overenie na overfitting\n",
    "check_overfitting(train_sizes, dt_train_scores, dt_test_scores)"
   ]
  },
  {
   "cell_type": "markdown",
   "metadata": {},
   "source": [
    "### 3.4 Vyhodnotenie vplyvu zvolenej stratégie riešenia na klasifikáciu"
   ]
  },
  {
   "cell_type": "markdown",
   "metadata": {},
   "source": [
    "### (A)"
   ]
  },
  {
   "cell_type": "markdown",
   "metadata": {},
   "source": [
    "### (B)"
   ]
  },
  {
   "cell_type": "markdown",
   "metadata": {},
   "source": [
    "### (C)"
   ]
  },
  {
   "cell_type": "markdown",
   "metadata": {},
   "source": [
    "### (D)"
   ]
  },
  {
   "cell_type": "markdown",
   "metadata": {},
   "source": [
    "### (E)"
   ]
  }
 ],
 "metadata": {
  "kernelspec": {
   "display_name": "iau",
   "language": "python",
   "name": "python3"
  },
  "language_info": {
   "codemirror_mode": {
    "name": "ipython",
    "version": 3
   },
   "file_extension": ".py",
   "mimetype": "text/x-python",
   "name": "python",
   "nbconvert_exporter": "python",
   "pygments_lexer": "ipython3",
   "version": "3.12.6"
  }
 },
 "nbformat": 4,
 "nbformat_minor": 2
}

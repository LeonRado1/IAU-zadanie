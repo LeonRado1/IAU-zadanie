{
 "cells": [
  {
   "cell_type": "markdown",
   "metadata": {},
   "source": [
    "# Predspracovanie údajov"
   ]
  },
  {
   "cell_type": "code",
   "execution_count": null,
   "metadata": {},
   "outputs": [],
   "source": [
    "# imports\n",
    "import pandas as pd\n",
    "import numpy as np\n",
    "import hashlib\n",
    "from sklearn.model_selection import train_test_split\n",
    "from sklearn.preprocessing import StandardScaler, MinMaxScaler, PowerTransformer, QuantileTransformer\n",
    "from sklearn.compose import ColumnTransformer\n",
    "from sklearn.ensemble import RandomForestRegressor\n",
    "from sklearn.linear_model import Lasso\n",
    "from sklearn.ensemble import RandomForestClassifier\n",
    "from sklearn.feature_selection import SelectFromModel"
   ]
  },
  {
   "cell_type": "markdown",
   "metadata": {},
   "source": [
    "## 1. Realizácia predspracovania dát"
   ]
  },
  {
   "cell_type": "code",
   "execution_count": 436,
   "metadata": {},
   "outputs": [
    {
     "data": {
      "text/html": [
       "<div>\n",
       "<style scoped>\n",
       "    .dataframe tbody tr th:only-of-type {\n",
       "        vertical-align: middle;\n",
       "    }\n",
       "\n",
       "    .dataframe tbody tr th {\n",
       "        vertical-align: top;\n",
       "    }\n",
       "\n",
       "    .dataframe thead th {\n",
       "        text-align: right;\n",
       "    }\n",
       "</style>\n",
       "<table border=\"1\" class=\"dataframe\">\n",
       "  <thead>\n",
       "    <tr style=\"text-align: right;\">\n",
       "      <th></th>\n",
       "      <th>ts</th>\n",
       "      <th>imei</th>\n",
       "      <th>mwra</th>\n",
       "      <th>c.android.gm</th>\n",
       "      <th>c.android.youtube</th>\n",
       "      <th>c.katana</th>\n",
       "      <th>c.dogalize</th>\n",
       "      <th>c.android.chrome</th>\n",
       "      <th>c.android.vending</th>\n",
       "      <th>c.raider</th>\n",
       "      <th>...</th>\n",
       "      <th>p.dogalize</th>\n",
       "      <th>p.android.defcontainer</th>\n",
       "      <th>p.google</th>\n",
       "      <th>p.android.gms</th>\n",
       "      <th>p.olauncher</th>\n",
       "      <th>p.android.vending</th>\n",
       "      <th>p.browser.provider</th>\n",
       "      <th>p.process.gapps</th>\n",
       "      <th>p.gms.persistent</th>\n",
       "      <th>p.simulator</th>\n",
       "    </tr>\n",
       "  </thead>\n",
       "  <tbody>\n",
       "    <tr>\n",
       "      <th>0</th>\n",
       "      <td>2018-05-05 10:00:00</td>\n",
       "      <td>3590433799317661073</td>\n",
       "      <td>1.0</td>\n",
       "      <td>10.73779</td>\n",
       "      <td>7.60358</td>\n",
       "      <td>10.30550</td>\n",
       "      <td>12.72137</td>\n",
       "      <td>17.14262</td>\n",
       "      <td>63.02014</td>\n",
       "      <td>52.99201</td>\n",
       "      <td>...</td>\n",
       "      <td>49.63998</td>\n",
       "      <td>52.22598</td>\n",
       "      <td>86.79731</td>\n",
       "      <td>88.93302</td>\n",
       "      <td>12.84506</td>\n",
       "      <td>2.63115</td>\n",
       "      <td>90.52801</td>\n",
       "      <td>90.51873</td>\n",
       "      <td>35.23943</td>\n",
       "      <td>93.56427</td>\n",
       "    </tr>\n",
       "    <tr>\n",
       "      <th>1</th>\n",
       "      <td>2018-05-05 10:01:00</td>\n",
       "      <td>3590433799317661784</td>\n",
       "      <td>1.0</td>\n",
       "      <td>13.88095</td>\n",
       "      <td>10.68630</td>\n",
       "      <td>8.36266</td>\n",
       "      <td>13.90403</td>\n",
       "      <td>13.28416</td>\n",
       "      <td>54.83081</td>\n",
       "      <td>41.20946</td>\n",
       "      <td>...</td>\n",
       "      <td>50.35593</td>\n",
       "      <td>45.19193</td>\n",
       "      <td>87.84568</td>\n",
       "      <td>25.99896</td>\n",
       "      <td>90.22100</td>\n",
       "      <td>71.68478</td>\n",
       "      <td>89.94562</td>\n",
       "      <td>71.77292</td>\n",
       "      <td>64.49298</td>\n",
       "      <td>42.81274</td>\n",
       "    </tr>\n",
       "  </tbody>\n",
       "</table>\n",
       "<p>2 rows × 33 columns</p>\n",
       "</div>"
      ],
      "text/plain": [
       "                   ts                 imei  mwra  c.android.gm  \\\n",
       "0 2018-05-05 10:00:00  3590433799317661073   1.0      10.73779   \n",
       "1 2018-05-05 10:01:00  3590433799317661784   1.0      13.88095   \n",
       "\n",
       "   c.android.youtube  c.katana  c.dogalize  c.android.chrome  \\\n",
       "0            7.60358  10.30550    12.72137          17.14262   \n",
       "1           10.68630   8.36266    13.90403          13.28416   \n",
       "\n",
       "   c.android.vending  c.raider  ...  p.dogalize  p.android.defcontainer  \\\n",
       "0           63.02014  52.99201  ...    49.63998                52.22598   \n",
       "1           54.83081  41.20946  ...    50.35593                45.19193   \n",
       "\n",
       "   p.google  p.android.gms  p.olauncher  p.android.vending  \\\n",
       "0  86.79731       88.93302     12.84506            2.63115   \n",
       "1  87.84568       25.99896     90.22100           71.68478   \n",
       "\n",
       "   p.browser.provider  p.process.gapps  p.gms.persistent  p.simulator  \n",
       "0            90.52801         90.51873          35.23943     93.56427  \n",
       "1            89.94562         71.77292          64.49298     42.81274  \n",
       "\n",
       "[2 rows x 33 columns]"
      ]
     },
     "execution_count": 436,
     "metadata": {},
     "output_type": "execute_result"
    }
   ],
   "source": [
    "connections = pd.read_csv('data/connections_cleaned.csv')\n",
    "connections['ts'] = pd.to_datetime(connections['ts'])\n",
    "\n",
    "processes = pd.read_csv('data/processes_cleaned.csv')\n",
    "processes['ts'] = pd.to_datetime(processes['ts'])\n",
    "\n",
    "conn_processes = pd.merge(connections, processes, on=['ts', 'imei', 'mwra'], how='inner')\n",
    "conn_processes.drop_duplicates(inplace=True)\n",
    "\n",
    "conn_processes.head(2)"
   ]
  },
  {
   "cell_type": "code",
   "execution_count": 437,
   "metadata": {},
   "outputs": [],
   "source": [
    "devices = pd.read_csv('data/devices_cleaned.csv')\n",
    "profiles = pd.read_csv('data/profiles_cleaned.csv')"
   ]
  },
  {
   "cell_type": "markdown",
   "metadata": {},
   "source": [
    "### (A)"
   ]
  },
  {
   "cell_type": "code",
   "execution_count": 438,
   "metadata": {},
   "outputs": [
    {
     "name": "stdout",
     "output_type": "stream",
     "text": [
      "Train Dataset Shape:  (11835, 32) (11835,)\n",
      "Test Dataset Shape:  (2959, 32) (2959,)\n"
     ]
    }
   ],
   "source": [
    "X = conn_processes.drop(columns=['mwra'])\n",
    "y = conn_processes['mwra']\n",
    "\n",
    "X_train, X_test, y_train, y_test = train_test_split(X, y, test_size=0.2, random_state=42)\n",
    "\n",
    "print(f'Train Dataset Shape: ', X_train.shape, y_train.shape)\n",
    "print(f'Test Dataset Shape: ', X_test.shape, y_test.shape)"
   ]
  },
  {
   "cell_type": "markdown",
   "metadata": {},
   "source": [
    "### (B)"
   ]
  },
  {
   "cell_type": "code",
   "execution_count": 439,
   "metadata": {},
   "outputs": [],
   "source": [
    "def hash_md5(value):\n",
    "    hash_object = hashlib.md5(value.encode())\n",
    "    hash_int = int(hash_object.hexdigest(), 16)\n",
    "    return hash_int % (2 ** 63)"
   ]
  },
  {
   "cell_type": "code",
   "execution_count": 440,
   "metadata": {},
   "outputs": [
    {
     "name": "stdout",
     "output_type": "stream",
     "text": [
      "Non-numeric columns: ['ts']\n"
     ]
    }
   ],
   "source": [
    "non_numeric = X_train.select_dtypes(exclude=['number']).columns.to_list()\n",
    "print('Non-numeric columns:', non_numeric)"
   ]
  },
  {
   "cell_type": "code",
   "execution_count": 441,
   "metadata": {},
   "outputs": [
    {
     "name": "stdout",
     "output_type": "stream",
     "text": [
      "Column types in order: [dtype('int64'), dtype('int64'), dtype('float64'), dtype('float64'), dtype('float64'), dtype('float64'), dtype('float64'), dtype('float64'), dtype('float64'), dtype('float64'), dtype('float64'), dtype('float64'), dtype('float64'), dtype('float64'), dtype('float64'), dtype('float64'), dtype('float64'), dtype('float64'), dtype('float64'), dtype('float64'), dtype('float64'), dtype('float64'), dtype('float64'), dtype('float64'), dtype('float64'), dtype('float64'), dtype('float64'), dtype('float64'), dtype('float64'), dtype('float64'), dtype('float64'), dtype('float64')]\n"
     ]
    },
    {
     "data": {
      "text/html": [
       "<div>\n",
       "<style scoped>\n",
       "    .dataframe tbody tr th:only-of-type {\n",
       "        vertical-align: middle;\n",
       "    }\n",
       "\n",
       "    .dataframe tbody tr th {\n",
       "        vertical-align: top;\n",
       "    }\n",
       "\n",
       "    .dataframe thead th {\n",
       "        text-align: right;\n",
       "    }\n",
       "</style>\n",
       "<table border=\"1\" class=\"dataframe\">\n",
       "  <thead>\n",
       "    <tr style=\"text-align: right;\">\n",
       "      <th></th>\n",
       "      <th>ts</th>\n",
       "      <th>imei</th>\n",
       "      <th>c.android.gm</th>\n",
       "      <th>c.android.youtube</th>\n",
       "      <th>c.katana</th>\n",
       "      <th>c.dogalize</th>\n",
       "      <th>c.android.chrome</th>\n",
       "      <th>c.android.vending</th>\n",
       "      <th>c.raider</th>\n",
       "      <th>c.UCMobile.intl</th>\n",
       "      <th>...</th>\n",
       "      <th>p.dogalize</th>\n",
       "      <th>p.android.defcontainer</th>\n",
       "      <th>p.google</th>\n",
       "      <th>p.android.gms</th>\n",
       "      <th>p.olauncher</th>\n",
       "      <th>p.android.vending</th>\n",
       "      <th>p.browser.provider</th>\n",
       "      <th>p.process.gapps</th>\n",
       "      <th>p.gms.persistent</th>\n",
       "      <th>p.simulator</th>\n",
       "    </tr>\n",
       "  </thead>\n",
       "  <tbody>\n",
       "    <tr>\n",
       "      <th>10308</th>\n",
       "      <td>1526133600000000000</td>\n",
       "      <td>3590433799317661545</td>\n",
       "      <td>15.07576</td>\n",
       "      <td>10.24261</td>\n",
       "      <td>12.55076</td>\n",
       "      <td>10.81983</td>\n",
       "      <td>16.56803</td>\n",
       "      <td>51.08433</td>\n",
       "      <td>55.40703</td>\n",
       "      <td>42.16911</td>\n",
       "      <td>...</td>\n",
       "      <td>59.00193</td>\n",
       "      <td>15.19691</td>\n",
       "      <td>24.61623</td>\n",
       "      <td>47.64864</td>\n",
       "      <td>36.44968</td>\n",
       "      <td>75.69554</td>\n",
       "      <td>0.81417</td>\n",
       "      <td>10.06329</td>\n",
       "      <td>35.59590</td>\n",
       "      <td>4.49113</td>\n",
       "    </tr>\n",
       "    <tr>\n",
       "      <th>10797</th>\n",
       "      <td>1526162700000000000</td>\n",
       "      <td>359043379931766635</td>\n",
       "      <td>11.47352</td>\n",
       "      <td>11.52160</td>\n",
       "      <td>14.50189</td>\n",
       "      <td>9.98012</td>\n",
       "      <td>14.12950</td>\n",
       "      <td>70.55549</td>\n",
       "      <td>66.92780</td>\n",
       "      <td>16.73113</td>\n",
       "      <td>...</td>\n",
       "      <td>60.71290</td>\n",
       "      <td>33.17497</td>\n",
       "      <td>83.04305</td>\n",
       "      <td>45.18686</td>\n",
       "      <td>27.33930</td>\n",
       "      <td>61.00963</td>\n",
       "      <td>77.18931</td>\n",
       "      <td>84.50057</td>\n",
       "      <td>46.84404</td>\n",
       "      <td>93.53882</td>\n",
       "    </tr>\n",
       "  </tbody>\n",
       "</table>\n",
       "<p>2 rows × 32 columns</p>\n",
       "</div>"
      ],
      "text/plain": [
       "                        ts                 imei  c.android.gm  \\\n",
       "10308  1526133600000000000  3590433799317661545      15.07576   \n",
       "10797  1526162700000000000   359043379931766635      11.47352   \n",
       "\n",
       "       c.android.youtube  c.katana  c.dogalize  c.android.chrome  \\\n",
       "10308           10.24261  12.55076    10.81983          16.56803   \n",
       "10797           11.52160  14.50189     9.98012          14.12950   \n",
       "\n",
       "       c.android.vending  c.raider  c.UCMobile.intl  ...  p.dogalize  \\\n",
       "10308           51.08433  55.40703         42.16911  ...    59.00193   \n",
       "10797           70.55549  66.92780         16.73113  ...    60.71290   \n",
       "\n",
       "       p.android.defcontainer  p.google  p.android.gms  p.olauncher  \\\n",
       "10308                15.19691  24.61623       47.64864     36.44968   \n",
       "10797                33.17497  83.04305       45.18686     27.33930   \n",
       "\n",
       "       p.android.vending  p.browser.provider  p.process.gapps  \\\n",
       "10308           75.69554             0.81417         10.06329   \n",
       "10797           61.00963            77.18931         84.50057   \n",
       "\n",
       "       p.gms.persistent  p.simulator  \n",
       "10308          35.59590      4.49113  \n",
       "10797          46.84404     93.53882  \n",
       "\n",
       "[2 rows x 32 columns]"
      ]
     },
     "execution_count": 441,
     "metadata": {},
     "output_type": "execute_result"
    }
   ],
   "source": [
    "X_train['ts'] = X_train['ts'].astype('int64')\n",
    "\n",
    "print('Column types in order:', X_train.dtypes.to_list())\n",
    "X_train.head(2)"
   ]
  },
  {
   "cell_type": "code",
   "execution_count": 442,
   "metadata": {},
   "outputs": [
    {
     "name": "stdout",
     "output_type": "stream",
     "text": [
      "Non-numeric columns: ['store_name', 'code', 'continent', 'city']\n"
     ]
    }
   ],
   "source": [
    "non_numeric = devices.select_dtypes(exclude=['number']).columns.to_list()\n",
    "print('Non-numeric columns:', non_numeric)"
   ]
  },
  {
   "cell_type": "code",
   "execution_count": 443,
   "metadata": {},
   "outputs": [
    {
     "name": "stdout",
     "output_type": "stream",
     "text": [
      "Column types in order: [dtype('float64'), dtype('float64'), dtype('int64'), dtype('int64'), dtype('int64'), dtype('int64'), dtype('int64'), dtype('int64'), dtype('int64'), dtype('int64'), dtype('int64'), dtype('int64'), dtype('int64'), dtype('int64')]\n"
     ]
    },
    {
     "data": {
      "text/html": [
       "<div>\n",
       "<style scoped>\n",
       "    .dataframe tbody tr th:only-of-type {\n",
       "        vertical-align: middle;\n",
       "    }\n",
       "\n",
       "    .dataframe tbody tr th {\n",
       "        vertical-align: top;\n",
       "    }\n",
       "\n",
       "    .dataframe thead th {\n",
       "        text-align: right;\n",
       "    }\n",
       "</style>\n",
       "<table border=\"1\" class=\"dataframe\">\n",
       "  <thead>\n",
       "    <tr style=\"text-align: right;\">\n",
       "      <th></th>\n",
       "      <th>latitude</th>\n",
       "      <th>longitude</th>\n",
       "      <th>store_name</th>\n",
       "      <th>code</th>\n",
       "      <th>imei</th>\n",
       "      <th>city</th>\n",
       "      <th>continent_Africa</th>\n",
       "      <th>continent_America</th>\n",
       "      <th>continent_Asia</th>\n",
       "      <th>continent_Atlantic</th>\n",
       "      <th>continent_Australia</th>\n",
       "      <th>continent_Europe</th>\n",
       "      <th>continent_Indian</th>\n",
       "      <th>continent_Pacific</th>\n",
       "    </tr>\n",
       "  </thead>\n",
       "  <tbody>\n",
       "    <tr>\n",
       "      <th>0</th>\n",
       "      <td>15.58552</td>\n",
       "      <td>102.42587</td>\n",
       "      <td>1238261730008270783</td>\n",
       "      <td>0</td>\n",
       "      <td>3590433799317661925</td>\n",
       "      <td>36</td>\n",
       "      <td>0</td>\n",
       "      <td>0</td>\n",
       "      <td>1</td>\n",
       "      <td>0</td>\n",
       "      <td>0</td>\n",
       "      <td>0</td>\n",
       "      <td>0</td>\n",
       "      <td>0</td>\n",
       "    </tr>\n",
       "    <tr>\n",
       "      <th>1</th>\n",
       "      <td>52.59319</td>\n",
       "      <td>13.32127</td>\n",
       "      <td>3703756712017643536</td>\n",
       "      <td>1</td>\n",
       "      <td>8630330696303482139</td>\n",
       "      <td>136</td>\n",
       "      <td>0</td>\n",
       "      <td>0</td>\n",
       "      <td>0</td>\n",
       "      <td>0</td>\n",
       "      <td>0</td>\n",
       "      <td>1</td>\n",
       "      <td>0</td>\n",
       "      <td>0</td>\n",
       "    </tr>\n",
       "  </tbody>\n",
       "</table>\n",
       "</div>"
      ],
      "text/plain": [
       "   latitude  longitude           store_name  code                 imei  city  \\\n",
       "0  15.58552  102.42587  1238261730008270783     0  3590433799317661925    36   \n",
       "1  52.59319   13.32127  3703756712017643536     1  8630330696303482139   136   \n",
       "\n",
       "   continent_Africa  continent_America  continent_Asia  continent_Atlantic  \\\n",
       "0                 0                  0               1                   0   \n",
       "1                 0                  0               0                   0   \n",
       "\n",
       "   continent_Australia  continent_Europe  continent_Indian  continent_Pacific  \n",
       "0                    0                 0                 0                  0  \n",
       "1                    0                 1                 0                  0  "
      ]
     },
     "execution_count": 443,
     "metadata": {},
     "output_type": "execute_result"
    }
   ],
   "source": [
    "devices['code'], code_unique = pd.factorize(devices['code'])\n",
    "devices = pd.get_dummies(devices, columns=['continent'], prefix='continent')\n",
    "\n",
    "for col in devices.columns:\n",
    "    if col.startswith('continent_'):\n",
    "        devices[col] = devices[col].astype(int)\n",
    "\n",
    "devices['store_name'] = devices['store_name'].apply(hash_md5)\n",
    "\n",
    "frequency = devices['city'].value_counts()\n",
    "devices['city'] = devices['city'].map(frequency)\n",
    "\n",
    "print('Column types in order:', devices.dtypes.to_list())\n",
    "devices.head(2)"
   ]
  },
  {
   "cell_type": "code",
   "execution_count": 444,
   "metadata": {},
   "outputs": [
    {
     "name": "stdout",
     "output_type": "stream",
     "text": [
      "Non-numeric columns: ['residence', 'username', 'name', 'ssn', 'registration', 'address', 'company', 'mail', 'latitude', 'longitude', 'domain']\n"
     ]
    }
   ],
   "source": [
    "non_numeric = profiles.select_dtypes(exclude=['number']).columns.to_list()\n",
    "print('Non-numeric columns:', non_numeric)"
   ]
  },
  {
   "cell_type": "code",
   "execution_count": 445,
   "metadata": {},
   "outputs": [
    {
     "name": "stdout",
     "output_type": "stream",
     "text": [
      "Column types in order: [dtype('float64'), dtype('float64'), dtype('int64'), dtype('int64'), dtype('int64'), dtype('int64'), dtype('int64'), dtype('int64'), dtype('int64'), dtype('int64'), dtype('int64'), dtype('int64'), dtype('int64'), dtype('int64')]\n"
     ]
    },
    {
     "data": {
      "text/html": [
       "<div>\n",
       "<style scoped>\n",
       "    .dataframe tbody tr th:only-of-type {\n",
       "        vertical-align: middle;\n",
       "    }\n",
       "\n",
       "    .dataframe tbody tr th {\n",
       "        vertical-align: top;\n",
       "    }\n",
       "\n",
       "    .dataframe thead th {\n",
       "        text-align: right;\n",
       "    }\n",
       "</style>\n",
       "<table border=\"1\" class=\"dataframe\">\n",
       "  <thead>\n",
       "    <tr style=\"text-align: right;\">\n",
       "      <th></th>\n",
       "      <th>imei</th>\n",
       "      <th>ssn</th>\n",
       "      <th>registration</th>\n",
       "      <th>address</th>\n",
       "      <th>company</th>\n",
       "      <th>user_id</th>\n",
       "      <th>latitude</th>\n",
       "      <th>longitude</th>\n",
       "      <th>domain_gmail.com</th>\n",
       "      <th>domain_hotmail.com</th>\n",
       "      <th>domain_yahoo.com</th>\n",
       "    </tr>\n",
       "  </thead>\n",
       "  <tbody>\n",
       "    <tr>\n",
       "      <th>0</th>\n",
       "      <td>359043379931766536</td>\n",
       "      <td>380331115</td>\n",
       "      <td>1667260800000000000</td>\n",
       "      <td>1</td>\n",
       "      <td>2562683759997207315</td>\n",
       "      <td>322</td>\n",
       "      <td>29.254521</td>\n",
       "      <td>56.881839</td>\n",
       "      <td>0</td>\n",
       "      <td>1</td>\n",
       "      <td>0</td>\n",
       "    </tr>\n",
       "    <tr>\n",
       "      <th>1</th>\n",
       "      <td>3590433799317662154</td>\n",
       "      <td>244952123</td>\n",
       "      <td>1701129600000000000</td>\n",
       "      <td>1</td>\n",
       "      <td>8266524727329204724</td>\n",
       "      <td>1634</td>\n",
       "      <td>-73.824535</td>\n",
       "      <td>-147.436751</td>\n",
       "      <td>0</td>\n",
       "      <td>1</td>\n",
       "      <td>0</td>\n",
       "    </tr>\n",
       "  </tbody>\n",
       "</table>\n",
       "</div>"
      ],
      "text/plain": [
       "                  imei        ssn         registration  address  \\\n",
       "0   359043379931766536  380331115  1667260800000000000        1   \n",
       "1  3590433799317662154  244952123  1701129600000000000        1   \n",
       "\n",
       "               company  user_id   latitude   longitude  domain_gmail.com  \\\n",
       "0  2562683759997207315      322  29.254521   56.881839                 0   \n",
       "1  8266524727329204724     1634 -73.824535 -147.436751                 0   \n",
       "\n",
       "   domain_hotmail.com  domain_yahoo.com  \n",
       "0                   1                 0  \n",
       "1                   1                 0  "
      ]
     },
     "execution_count": 445,
     "metadata": {},
     "output_type": "execute_result"
    }
   ],
   "source": [
    "profiles.drop(['residence', 'username', 'name', 'mail'], inplace=True, axis=1)\n",
    "\n",
    "profiles['latitude'] = profiles['latitude'].replace('Unknown', 0)\n",
    "profiles['longitude'] = profiles['longitude'].replace('Unknown', 0)\n",
    "\n",
    "profiles['latitude'] = profiles['latitude'].astype(float)\n",
    "profiles['longitude'] = profiles['longitude'].astype(float)\n",
    "\n",
    "profiles['registration'] = pd.to_datetime(profiles['registration'], format='%m/%d/%Y')\n",
    "profiles['registration'] = (profiles['registration']).astype(int)\n",
    "\n",
    "def convert_ssn(value):\n",
    "    cleaned = ''.join(filter(str.isdigit, value))\n",
    "    return int(cleaned)\n",
    "\n",
    "profiles['ssn'] = profiles['ssn'].apply(convert_ssn)\n",
    "\n",
    "def encode_address(value):\n",
    "    return 0 if value == 'Unknown' else 1\n",
    "\n",
    "profiles['address'] = profiles['address'].apply(encode_address)\n",
    "profiles['company'] = profiles['company'].apply(hash_md5)\n",
    "\n",
    "profiles = pd.get_dummies(profiles, columns=['domain'], prefix='domain')\n",
    "\n",
    "for col in profiles.columns:\n",
    "    if col.startswith('domain_'):\n",
    "        profiles[col] = profiles[col].astype(int)\n",
    "\n",
    "print('Column types in order:', devices.dtypes.to_list())\n",
    "profiles.head(2)"
   ]
  },
  {
   "cell_type": "code",
   "execution_count": 446,
   "metadata": {},
   "outputs": [],
   "source": [
    "X_train.drop(['ts', 'imei'], inplace=True, axis=1)"
   ]
  },
  {
   "cell_type": "code",
   "execution_count": 447,
   "metadata": {},
   "outputs": [],
   "source": [
    "def outlier_detection(df):\n",
    "    for col in df.select_dtypes(include=[np.number]).columns:\n",
    "        lower_bound = df[col].quantile(0.05)\n",
    "        upper_bound = df[col].quantile(0.95)\n",
    "\n",
    "        df[col] = np.where(df[col] < lower_bound, lower_bound, df[col])\n",
    "        df[col] = np.where(df[col] > upper_bound, upper_bound, df[col])\n",
    "    \n",
    "    return df\n",
    "\n",
    "def fill_missing_values(df):\n",
    "    for col in df.select_dtypes(include=[np.number]).columns:\n",
    "        df[col] = df[col].fillna(df[col].median())\n",
    "\n",
    "    return df"
   ]
  },
  {
   "cell_type": "code",
   "execution_count": 448,
   "metadata": {},
   "outputs": [],
   "source": [
    "X_train = fill_missing_values(X_train)\n",
    "X_train = outlier_detection(X_train)"
   ]
  },
  {
   "cell_type": "markdown",
   "metadata": {},
   "source": [
    "### (C)"
   ]
  },
  {
   "cell_type": "code",
   "execution_count": 449,
   "metadata": {},
   "outputs": [
    {
     "name": "stdout",
     "output_type": "stream",
     "text": [
      "StandardScaler Columns:\t\t ['c.UCMobile.intl', 'c.updateassist', 'c.UCMobile.x86', 'p.android.defcontainer', 'p.google', 'p.android.gms', 'p.olauncher', 'p.android.vending', 'p.browser.provider', 'p.process.gapps', 'p.gms.persistent', 'p.simulator']\n",
      "MinMaxScaler Columns:\t\t ['p.android.chrome', 'p.android.documentsui', 'p.android.gm']\n",
      "PowerTransformer Columns:\t ['p.notifier']\n",
      "QuantileTransformer Columns:\t ['c.android.gm', 'c.android.youtube', 'c.katana', 'c.dogalize', 'c.android.chrome', 'c.android.vending', 'c.raider', 'p.system', 'p.android.externalstorage', 'p.android.packageinstaller', 'p.android.settings', 'p.inputmethod.latin', 'p.katana', 'p.dogalize']\n"
     ]
    }
   ],
   "source": [
    "standard_columns, minmax_columns, power_columns, quantile_columns = [], [], [], []\n",
    "\n",
    "def select_transformer(column):\n",
    "    skewness = column.skew()\n",
    "    negative_values = (column < 0).any()\n",
    "    \n",
    "    iqr = column.quantile(0.75) - column.quantile(0.25)\n",
    "    range = column.max() - column.min()\n",
    "    large_range = range > iqr * 2\n",
    "    \n",
    "    if abs(skewness) >= 1.5 and not negative_values:\n",
    "        power_columns.append(column.name)\n",
    "        return\n",
    "    \n",
    "    if (column.max() > 1 or column.min() < 0) and (0.25 < abs(skewness) < 1.5):\n",
    "        minmax_columns.append(column.name)\n",
    "        return\n",
    "    \n",
    "    if large_range or (0.25 < abs(skewness) < 1.5):\n",
    "        quantile_columns.append(column.name)\n",
    "        return\n",
    "    \n",
    "    if abs(skewness) <= 0.25:\n",
    "        standard_columns.append(column.name)\n",
    "        return\n",
    "\n",
    "for col in X_train.columns:\n",
    "    select_transformer(X_train[col])\n",
    "\n",
    "print('StandardScaler Columns:\\t\\t', standard_columns)\n",
    "print('MinMaxScaler Columns:\\t\\t', minmax_columns)\n",
    "print('PowerTransformer Columns:\\t', power_columns)\n",
    "print('QuantileTransformer Columns:\\t', quantile_columns)"
   ]
  },
  {
   "cell_type": "code",
   "execution_count": 450,
   "metadata": {},
   "outputs": [],
   "source": [
    "preprocessor = ColumnTransformer(\n",
    "    transformers=[\n",
    "        ('standard', StandardScaler(), standard_columns),\n",
    "        ('minmax', MinMaxScaler(), minmax_columns),\n",
    "        ('power', PowerTransformer(method='yeo-johnson'), power_columns),\n",
    "        ('quantile', QuantileTransformer(output_distribution='normal'), quantile_columns)\n",
    "    ],\n",
    "    remainder='passthrough'\n",
    ")\n",
    "\n",
    "X_train_transformed = preprocessor.fit_transform(X_train)"
   ]
  },
  {
   "cell_type": "markdown",
   "metadata": {},
   "source": [
    "### (D)"
   ]
  },
  {
   "cell_type": "markdown",
   "metadata": {},
   "source": [
    "## 2. Výber atribútov pre strojové učenie"
   ]
  },
  {
   "cell_type": "markdown",
   "metadata": {},
   "source": [
    "### (A)\n",
    "#### 3.3.1 Informatívne atribúty k predikovanej premennej pre strojové učenie"
   ]
  },
  {
   "cell_type": "markdown",
   "metadata": {},
   "source": [
    "##### Metóda pomocou random forest"
   ]
  },
  {
   "cell_type": "code",
   "execution_count": 451,
   "metadata": {},
   "outputs": [
    {
     "name": "stdout",
     "output_type": "stream",
     "text": [
      "Tabuľka atribútov podľa RandomForestRegressor:\n",
      "               Nazov atributu  Random Forest hodnota\n",
      "0           p.android.vending               0.362649\n",
      "1                    p.katana               0.163863\n",
      "2       p.android.documentsui               0.047621\n",
      "3         p.inputmethod.latin               0.046382\n",
      "4  p.android.packageinstaller               0.039236\n",
      "5                  p.notifier               0.034063\n",
      "6   p.android.externalstorage               0.027874\n",
      "7          p.android.settings               0.021351\n",
      "8                 p.olauncher               0.019463\n",
      "9          p.browser.provider               0.016513\n",
      "\n",
      "\n"
     ]
    }
   ],
   "source": [
    "rf = RandomForestRegressor()\n",
    "rf.fit(X_train_transformed, y_train)\n",
    "\n",
    "rf_features_sorted = sorted(\n",
    "    list(zip([col for col in X_train.columns if col not in ['ts', 'imei']], rf.feature_importances_)),\n",
    "    key=lambda x: x[1],\n",
    "    reverse=True\n",
    ")[:10]\n",
    "rf_features = {name: importance for name, importance in rf_features_sorted}\n",
    "\n",
    "print(\"Tabuľka atribútov podľa RandomForestRegressor:\")\n",
    "df_rf = pd.DataFrame(rf_features_sorted, columns=[\"Nazov atributu\", \"Random Forest hodnota\"])\n",
    "print(df_rf)\n",
    "print(\"\\n\")"
   ]
  },
  {
   "cell_type": "markdown",
   "metadata": {},
   "source": [
    "##### Metóda pomocou Lasso Regression"
   ]
  },
  {
   "cell_type": "code",
   "execution_count": 452,
   "metadata": {},
   "outputs": [
    {
     "name": "stdout",
     "output_type": "stream",
     "text": [
      "10 najdôležitejších atribútov pomocou Lasso Regression:\n",
      "p.android.packageinstaller    0.290033\n",
      "p.katana                      0.063865\n",
      "p.browser.provider            0.039718\n",
      "p.android.externalstorage     0.020939\n",
      "p.dogalize                    0.003143\n",
      "p.android.gms                -0.009040\n",
      "p.olauncher                  -0.015135\n",
      "p.inputmethod.latin          -0.023858\n",
      "p.notifier                   -0.042290\n",
      "p.android.vending            -0.046421\n",
      "dtype: float64\n"
     ]
    }
   ],
   "source": [
    "lasso = Lasso(alpha=0.01) \n",
    "lasso.fit(X_train_transformed, y_train)\n",
    "\n",
    "importance = pd.Series(lasso.coef_, index=[col for col in X_train.columns if col not in ['ts', 'imei']])\n",
    "\n",
    "lasso_features = importance[importance != 0].nlargest(10)\n",
    "\n",
    "print(\"10 najdôležitejších atribútov pomocou Lasso Regression:\")\n",
    "print(lasso_features)"
   ]
  },
  {
   "cell_type": "markdown",
   "metadata": {},
   "source": [
    "##### Metóda pomocou Select from model"
   ]
  },
  {
   "cell_type": "code",
   "execution_count": null,
   "metadata": {},
   "outputs": [
    {
     "name": "stdout",
     "output_type": "stream",
     "text": [
      "10 najdôležitejších atribútov pomocou Select from model: \n",
      "\n",
      "p.android.vending             0.154287\n",
      "p.katana                      0.146509\n",
      "p.notifier                    0.116836\n",
      "p.android.packageinstaller    0.068208\n",
      "p.inputmethod.latin           0.062886\n",
      "p.android.documentsui         0.059023\n",
      "p.browser.provider            0.035289\n",
      "p.android.externalstorage     0.033862\n",
      "p.olauncher                   0.032160\n",
      "p.android.settings            0.031330\n",
      "dtype: float64\n"
     ]
    }
   ],
   "source": [
    "feature_names = X_train.columns\n",
    "\n",
    "model = RandomForestClassifier()\n",
    "model.fit(X_train_transformed, y_train)\n",
    "\n",
    "selector = SelectFromModel(model, threshold=0, prefit=True)\n",
    "X_selected = selector.transform(X_train_transformed)\n",
    "\n",
    "selected_features_mask = selector.get_support()\n",
    "\n",
    "selected_feature_names = feature_names[selected_features_mask]\n",
    "\n",
    "selected_feature_importances = model.feature_importances_[selected_features_mask]\n",
    "\n",
    "importance = pd.Series(selected_feature_importances, index=selected_feature_names)\n",
    "\n",
    "select_from_model_features = importance.nlargest(10)\n",
    "\n",
    "print(\"10 najdôležitejších atribútov pomocou Select from model: \\n\")\n",
    "print(select_from_model_features)"
   ]
  },
  {
   "cell_type": "markdown",
   "metadata": {},
   "source": [
    "### (B)"
   ]
  },
  {
   "cell_type": "code",
   "execution_count": 454,
   "metadata": {},
   "outputs": [
    {
     "name": "stdout",
     "output_type": "stream",
     "text": [
      "Kombinovaná tabuľka atribútov podľa dôležitosti: \n",
      "\n",
      "            Nazov atributu  Random Forest hodnota  Lasso hodnota  Select from model hodnota  Výsledná hodnota\n",
      "         p.android.vending               0.362649      -0.046421                   0.154287          0.470516\n",
      "p.android.packageinstaller               0.039236       0.290033                   0.068208          0.397478\n",
      "                  p.katana               0.163863       0.063865                   0.146509          0.374237\n",
      "                p.notifier               0.034063      -0.042290                   0.116836          0.108609\n",
      "     p.android.documentsui               0.047621       0.000000                   0.059023          0.106643\n",
      "        p.browser.provider               0.016513       0.039718                   0.035289          0.091521\n",
      "       p.inputmethod.latin               0.046382      -0.023858                   0.062886          0.085410\n",
      " p.android.externalstorage               0.027874       0.020939                   0.033862          0.082675\n",
      "        p.android.settings               0.021351       0.000000                   0.031330          0.052681\n",
      "               p.olauncher               0.019463      -0.015135                   0.032160          0.036489\n",
      "                p.dogalize               0.000000       0.003143                   0.000000          0.003143\n",
      "             p.android.gms               0.000000      -0.009040                   0.000000         -0.009040\n"
     ]
    }
   ],
   "source": [
    "all_features = set(rf_features.keys()) | set(lasso_features.keys()) | set(select_from_model_features.keys())\n",
    "\n",
    "data = []\n",
    "for feature in all_features:\n",
    "    rf_value = rf_features.get(feature, \"---\")\n",
    "    lasso_value = lasso_features.get(feature, \"---\")\n",
    "    select_from_model_value = select_from_model_features.get(feature, \"---\")\n",
    "    data.append((feature, rf_value, lasso_value, select_from_model_value))\n",
    "\n",
    "df_combined = pd.DataFrame(data, columns=[\"Nazov atributu\", \"Random Forest hodnota\", \"Lasso hodnota\", \"Select from model hodnota\"])\n",
    "df_combined[\"Random Forest hodnota\"] = pd.to_numeric(df_combined[\"Random Forest hodnota\"], errors='coerce')\n",
    "df_combined[\"Lasso hodnota\"] = pd.to_numeric(df_combined[\"Lasso hodnota\"], errors='coerce')\n",
    "\n",
    "df_combined.sort_values(by=\"Random Forest hodnota\", ascending=False, inplace=True)\n",
    "\n",
    "\n",
    "df_combined.replace(\"x\", 0, inplace=True)\n",
    "\n",
    "df_combined[\"Select from model hodnota\"] = pd.to_numeric(df_combined[\"Select from model hodnota\"], errors='coerce')\n",
    "df_combined[\"Select from model hodnota\"] = df_combined[\"Select from model hodnota\"]\n",
    "\n",
    "df_combined[\"Výsledná hodnota\"] = (\n",
    "    pd.to_numeric(df_combined[\"Random Forest hodnota\"], errors='coerce').fillna(0)\n",
    "    + pd.to_numeric(df_combined[\"Lasso hodnota\"], errors='coerce').fillna(0)\n",
    "    + df_combined[\"Select from model hodnota\"].fillna(0)\n",
    ")\n",
    "\n",
    "df_combined.sort_values(by=\"Výsledná hodnota\", ascending=False, inplace=True)\n",
    "df_combined.fillna(0, inplace=True)\n",
    "print(\"Kombinovaná tabuľka atribútov podľa dôležitosti: \\n\")\n",
    "print(df_combined.to_string(index=False))"
   ]
  },
  {
   "cell_type": "markdown",
   "metadata": {},
   "source": [
    "### (C)"
   ]
  },
  {
   "cell_type": "markdown",
   "metadata": {},
   "source": [
    "## 3. Replikovateľnosť predspracovania"
   ]
  },
  {
   "cell_type": "markdown",
   "metadata": {},
   "source": [
    "### (A)"
   ]
  },
  {
   "cell_type": "markdown",
   "metadata": {},
   "source": [
    "### (B)"
   ]
  },
  {
   "cell_type": "markdown",
   "metadata": {},
   "source": [
    "<small>Percentuálny podiel práce členov na projekte: Vlastislav Pokorný: 50%, Leon Radó: 50%</small>"
   ]
  }
 ],
 "metadata": {
  "kernelspec": {
   "display_name": "iau",
   "language": "python",
   "name": "python3"
  },
  "language_info": {
   "codemirror_mode": {
    "name": "ipython",
    "version": 3
   },
   "file_extension": ".py",
   "mimetype": "text/x-python",
   "name": "python",
   "nbconvert_exporter": "python",
   "pygments_lexer": "ipython3",
   "version": "3.12.6"
  }
 },
 "nbformat": 4,
 "nbformat_minor": 2
}

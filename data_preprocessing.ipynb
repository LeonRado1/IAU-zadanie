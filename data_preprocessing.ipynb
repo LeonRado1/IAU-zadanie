{
 "cells": [
  {
   "cell_type": "markdown",
   "metadata": {},
   "source": [
    "# Predspracovanie údajov"
   ]
  },
  {
   "cell_type": "code",
   "execution_count": 14,
   "metadata": {},
   "outputs": [],
   "source": [
    "# imports\n",
    "import pandas as pd\n",
    "from sklearn.model_selection import train_test_split"
   ]
  },
  {
   "cell_type": "markdown",
   "metadata": {},
   "source": [
    "## 1. Realizácia predspracovania dát"
   ]
  },
  {
   "cell_type": "code",
   "execution_count": 15,
   "metadata": {},
   "outputs": [
    {
     "data": {
      "text/html": [
       "<div>\n",
       "<style scoped>\n",
       "    .dataframe tbody tr th:only-of-type {\n",
       "        vertical-align: middle;\n",
       "    }\n",
       "\n",
       "    .dataframe tbody tr th {\n",
       "        vertical-align: top;\n",
       "    }\n",
       "\n",
       "    .dataframe thead th {\n",
       "        text-align: right;\n",
       "    }\n",
       "</style>\n",
       "<table border=\"1\" class=\"dataframe\">\n",
       "  <thead>\n",
       "    <tr style=\"text-align: right;\">\n",
       "      <th></th>\n",
       "      <th>ts</th>\n",
       "      <th>imei</th>\n",
       "      <th>mwra</th>\n",
       "      <th>c.android.gm</th>\n",
       "      <th>c.android.youtube</th>\n",
       "      <th>c.katana</th>\n",
       "      <th>c.dogalize</th>\n",
       "      <th>c.android.chrome</th>\n",
       "      <th>c.android.vending</th>\n",
       "      <th>c.raider</th>\n",
       "      <th>...</th>\n",
       "      <th>p.dogalize</th>\n",
       "      <th>p.android.defcontainer</th>\n",
       "      <th>p.google</th>\n",
       "      <th>p.android.gms</th>\n",
       "      <th>p.olauncher</th>\n",
       "      <th>p.android.vending</th>\n",
       "      <th>p.browser.provider</th>\n",
       "      <th>p.process.gapps</th>\n",
       "      <th>p.gms.persistent</th>\n",
       "      <th>p.simulator</th>\n",
       "    </tr>\n",
       "  </thead>\n",
       "  <tbody>\n",
       "    <tr>\n",
       "      <th>0</th>\n",
       "      <td>2018-05-05 10:00:00</td>\n",
       "      <td>3590433799317661073</td>\n",
       "      <td>1.0</td>\n",
       "      <td>10.73779</td>\n",
       "      <td>7.60358</td>\n",
       "      <td>10.30550</td>\n",
       "      <td>12.72137</td>\n",
       "      <td>17.14262</td>\n",
       "      <td>63.02014</td>\n",
       "      <td>52.99201</td>\n",
       "      <td>...</td>\n",
       "      <td>49.63998</td>\n",
       "      <td>52.22598</td>\n",
       "      <td>86.79731</td>\n",
       "      <td>88.93302</td>\n",
       "      <td>12.84506</td>\n",
       "      <td>2.63115</td>\n",
       "      <td>90.52801</td>\n",
       "      <td>90.51873</td>\n",
       "      <td>35.23943</td>\n",
       "      <td>93.56427</td>\n",
       "    </tr>\n",
       "    <tr>\n",
       "      <th>1</th>\n",
       "      <td>2018-05-05 10:01:00</td>\n",
       "      <td>3590433799317661784</td>\n",
       "      <td>1.0</td>\n",
       "      <td>13.88095</td>\n",
       "      <td>10.68630</td>\n",
       "      <td>8.36266</td>\n",
       "      <td>13.90403</td>\n",
       "      <td>13.28416</td>\n",
       "      <td>54.83081</td>\n",
       "      <td>41.20946</td>\n",
       "      <td>...</td>\n",
       "      <td>50.35593</td>\n",
       "      <td>45.19193</td>\n",
       "      <td>87.84568</td>\n",
       "      <td>25.99896</td>\n",
       "      <td>90.22100</td>\n",
       "      <td>71.68478</td>\n",
       "      <td>89.94562</td>\n",
       "      <td>71.77292</td>\n",
       "      <td>64.49298</td>\n",
       "      <td>42.81274</td>\n",
       "    </tr>\n",
       "  </tbody>\n",
       "</table>\n",
       "<p>2 rows × 33 columns</p>\n",
       "</div>"
      ],
      "text/plain": [
       "                   ts                 imei  mwra  c.android.gm  \\\n",
       "0 2018-05-05 10:00:00  3590433799317661073   1.0      10.73779   \n",
       "1 2018-05-05 10:01:00  3590433799317661784   1.0      13.88095   \n",
       "\n",
       "   c.android.youtube  c.katana  c.dogalize  c.android.chrome  \\\n",
       "0            7.60358  10.30550    12.72137          17.14262   \n",
       "1           10.68630   8.36266    13.90403          13.28416   \n",
       "\n",
       "   c.android.vending  c.raider  ...  p.dogalize  p.android.defcontainer  \\\n",
       "0           63.02014  52.99201  ...    49.63998                52.22598   \n",
       "1           54.83081  41.20946  ...    50.35593                45.19193   \n",
       "\n",
       "   p.google  p.android.gms  p.olauncher  p.android.vending  \\\n",
       "0  86.79731       88.93302     12.84506            2.63115   \n",
       "1  87.84568       25.99896     90.22100           71.68478   \n",
       "\n",
       "   p.browser.provider  p.process.gapps  p.gms.persistent  p.simulator  \n",
       "0            90.52801         90.51873          35.23943     93.56427  \n",
       "1            89.94562         71.77292          64.49298     42.81274  \n",
       "\n",
       "[2 rows x 33 columns]"
      ]
     },
     "execution_count": 15,
     "metadata": {},
     "output_type": "execute_result"
    }
   ],
   "source": [
    "connections = pd.read_csv('data/connections_cleaned.csv')\n",
    "connections['ts'] = pd.to_datetime(connections['ts'])\n",
    "\n",
    "processes = pd.read_csv('data/processes_cleaned.csv')\n",
    "processes['ts'] = pd.to_datetime(processes['ts'])\n",
    "\n",
    "conn_processes = pd.merge(connections, processes, on=['ts', 'imei', 'mwra'], how='inner')\n",
    "conn_processes.drop_duplicates(inplace=True)\n",
    "\n",
    "conn_processes.head(2)"
   ]
  },
  {
   "cell_type": "code",
   "execution_count": 16,
   "metadata": {},
   "outputs": [],
   "source": [
    "devices = pd.read_csv('data/devices_cleaned.csv')\n",
    "profiles = pd.read_csv('data/profiles_cleaned.csv')"
   ]
  },
  {
   "cell_type": "markdown",
   "metadata": {},
   "source": [
    "### (A)"
   ]
  },
  {
   "cell_type": "code",
   "execution_count": 17,
   "metadata": {},
   "outputs": [
    {
     "name": "stdout",
     "output_type": "stream",
     "text": [
      "Train Dataset Shape:  (11835, 32) (11835,)\n",
      "Test Dataset Shape:  (2959, 32) (2959,)\n"
     ]
    }
   ],
   "source": [
    "X = conn_processes.drop(columns=['mwra'])\n",
    "y = conn_processes['mwra']\n",
    "\n",
    "X_train, X_test, y_train, y_test = train_test_split(X, y, test_size=0.2, random_state=42)\n",
    "\n",
    "print(f'Train Dataset Shape: ', X_train.shape, y_train.shape)\n",
    "print(f'Test Dataset Shape: ', X_test.shape, y_test.shape)"
   ]
  },
  {
   "cell_type": "markdown",
   "metadata": {},
   "source": [
    "### (B)"
   ]
  },
  {
   "cell_type": "markdown",
   "metadata": {},
   "source": [
    "### (C)"
   ]
  },
  {
   "cell_type": "markdown",
   "metadata": {},
   "source": [
    "### (D)"
   ]
  },
  {
   "cell_type": "markdown",
   "metadata": {},
   "source": [
    "## 2. Výber atribútov pre strojové učenie"
   ]
  },
  {
   "cell_type": "markdown",
   "metadata": {},
   "source": [
    "### (A)"
   ]
  },
  {
   "cell_type": "markdown",
   "metadata": {},
   "source": [
    "### (B)"
   ]
  },
  {
   "cell_type": "markdown",
   "metadata": {},
   "source": [
    "### (C)"
   ]
  },
  {
   "cell_type": "markdown",
   "metadata": {},
   "source": [
    "## 3. Replikovateľnosť predspracovania"
   ]
  },
  {
   "cell_type": "markdown",
   "metadata": {},
   "source": [
    "### (A)"
   ]
  },
  {
   "cell_type": "markdown",
   "metadata": {},
   "source": [
    "### (B)"
   ]
  },
  {
   "cell_type": "markdown",
   "metadata": {},
   "source": [
    "<small>Percentuálny podiel práce členov na projekte: Vlastislav Pokorný: 50%, Leon Radó: 50%</small>"
   ]
  }
 ],
 "metadata": {
  "kernelspec": {
   "display_name": "iau",
   "language": "python",
   "name": "python3"
  },
  "language_info": {
   "codemirror_mode": {
    "name": "ipython",
    "version": 3
   },
   "file_extension": ".py",
   "mimetype": "text/x-python",
   "name": "python",
   "nbconvert_exporter": "python",
   "pygments_lexer": "ipython3",
   "version": "3.12.6"
  }
 },
 "nbformat": 4,
 "nbformat_minor": 2
}
